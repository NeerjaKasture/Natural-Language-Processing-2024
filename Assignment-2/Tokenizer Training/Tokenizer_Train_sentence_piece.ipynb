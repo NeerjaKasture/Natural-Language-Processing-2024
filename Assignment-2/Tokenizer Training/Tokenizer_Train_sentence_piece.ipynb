{
  "nbformat": 4,
  "nbformat_minor": 0,
  "metadata": {
    "colab": {
      "provenance": [],
      "gpuType": "T4"
    },
    "kernelspec": {
      "name": "python3",
      "display_name": "Python 3"
    },
    "language_info": {
      "name": "python"
    }
  },
  "cells": [
    {
      "cell_type": "code",
      "execution_count": null,
      "metadata": {
        "id": "AH75GkdZbvR7"
      },
      "outputs": [],
      "source": [
        "import os\n",
        "import argparse\n",
        "import datetime\n",
        "import re\n",
        "import glob\n",
        "from tqdm import tqdm\n",
        "import pandas as pd\n",
        "from tokenizers import SentencePieceBPETokenizer\n",
        "from transformers import PreTrainedTokenizerFast\n"
      ]
    },
    {
      "cell_type": "code",
      "source": [
        "english_pattern = re.compile(r'[A-Za-z]')\n",
        "\n",
        "file = '/content/cleaned_taasir_articles.csv'\n",
        "\n",
        "df=pd.read_csv(file)\n",
        "df['Content'] = df['Content'].astype(str)\n",
        "df = df[~df[\"Content\"].str.contains(english_pattern)]\n",
        "df.to_csv(f\"{file[:-4]}_filtered.csv\",index=False)"
      ],
      "metadata": {
        "id": "p0g_CcmQxwGa"
      },
      "execution_count": null,
      "outputs": []
    },
    {
      "cell_type": "code",
      "source": [
        "english_pattern = re.compile(r'[A-Za-z]')\n",
        "\n",
        "file = '/content/deduplicated_cleaned_Jang_all_articles.csv'\n",
        "\n",
        "df=pd.read_csv(file)\n",
        "df['Content'] = df['Content'].astype(str)\n",
        "df = df[~df[\"Content\"].str.contains(english_pattern)]\n",
        "df.to_csv(f\"{file[:-4]}filtered.csv\",index=False)"
      ],
      "metadata": {
        "id": "-QB5qqOR39AN"
      },
      "execution_count": null,
      "outputs": []
    },
    {
      "cell_type": "code",
      "source": [
        "def train_tokenizer(data_list, vocab_size=32768, model_name=\"./urdu_tokenizer_v2\"):\n",
        "\n",
        "    ## Change bos & eos\n",
        "    bos_tok = \"<sos>\"\n",
        "    eos_tok = \"<end_of_sen>\"\n",
        "\n",
        "    ## Add basic characters to this below list, including numbers & special language characters.\n",
        "    special_char = [\"0\", \"1\", \"2\", \"3\", \"4\", \"5\", \"6\", \"7\", \"8\", \"9\"]\n",
        "\n",
        "    tokenizer = SentencePieceBPETokenizer()\n",
        "\n",
        "    tokenizer.train_from_iterator(\n",
        "        data_list,\n",
        "        vocab_size,\n",
        "        min_frequency = 5,\n",
        "        special_tokens = [\"<pad>\", \"<unk>\", bos_tok, eos_tok, \"<user>\", \"<assistant>\"] + special_char,\n",
        "        show_progress = True,\n",
        "    )\n",
        "\n",
        "    ## Don't forget to add special tokens.\n",
        "    transformer_tokenizer = PreTrainedTokenizerFast(\n",
        "        tokenizer_object=tokenizer,\n",
        "        bos_token = bos_tok,\n",
        "        eos_token = eos_tok,\n",
        "        unk_token = \"<unk>\",\n",
        "        pad_token = \"<pad>\",\n",
        "        mask_token = \"<mask>\",\n",
        "        padding_side = \"left\",\n",
        "        truncation_side = \"right\",\n",
        "        additional_special_tokens = [\"<user>\", \"<assistant>\"],\n",
        "        clean_up_tokenization_spaces = False,\n",
        "    )\n",
        "\n",
        "    transformer_tokenizer.save_pretrained(model_name)"
      ],
      "metadata": {
        "id": "oAvIF1k3cAtj"
      },
      "execution_count": null,
      "outputs": []
    },
    {
      "cell_type": "code",
      "source": [
        "### Importing Data\n",
        "df = pd.read_csv(\"/content/deduplicated_cleaned_Jang_all_articlesfiltered.csv\", encoding = \"utf-8\")"
      ],
      "metadata": {
        "id": "91P3QAjXfvv_"
      },
      "execution_count": null,
      "outputs": []
    },
    {
      "cell_type": "code",
      "source": [
        "len(df[\"Content\"].to_list())"
      ],
      "metadata": {
        "id": "cLpc1yqhKC8z",
        "outputId": "59e746c4-a0c1-459e-f8ed-939580c9e49a",
        "colab": {
          "base_uri": "https://localhost:8080/"
        }
      },
      "execution_count": null,
      "outputs": [
        {
          "output_type": "execute_result",
          "data": {
            "text/plain": [
              "448588"
            ]
          },
          "metadata": {},
          "execution_count": 17
        }
      ]
    },
    {
      "cell_type": "code",
      "source": [
        "### Executing Training Function to Train tokenizer\n",
        "train_tokenizer(df[\"Content\"].to_list())"
      ],
      "metadata": {
        "id": "vUkD5EYQb_-T"
      },
      "execution_count": null,
      "outputs": []
    },
    {
      "cell_type": "code",
      "source": [
        "### Testing Training Tokenizer\n",
        "from transformers import AutoTokenizer"
      ],
      "metadata": {
        "id": "MYzMUs8X0JbN"
      },
      "execution_count": null,
      "outputs": []
    },
    {
      "cell_type": "code",
      "source": [
        "tokenizer = AutoTokenizer.from_pretrained(\"./urdu_tokenizer_v2\")"
      ],
      "metadata": {
        "id": "ewmMgPOS5Hoy"
      },
      "execution_count": null,
      "outputs": []
    },
    {
      "cell_type": "code",
      "source": [
        "len(tokenizer.get_vocab())"
      ],
      "metadata": {
        "colab": {
          "base_uri": "https://localhost:8080/"
        },
        "id": "f01XXs5qAtbx",
        "outputId": "8c221a41-c03e-4bc6-9e52-e6d549b8b27e"
      },
      "execution_count": null,
      "outputs": [
        {
          "output_type": "execute_result",
          "data": {
            "text/plain": [
              "32769"
            ]
          },
          "metadata": {},
          "execution_count": 21
        }
      ]
    },
    {
      "cell_type": "code",
      "source": [
        "df_test= pd.read_csv(\"/content/cleaned_taasir_articles_filtered.csv\")"
      ],
      "metadata": {
        "id": "OjRsMAtMKmHt"
      },
      "execution_count": null,
      "outputs": []
    },
    {
      "cell_type": "code",
      "source": [
        "import numpy as np\n",
        "input_list=df_test[\"Content\"].to_list()\n",
        "input_ids_len=[]\n",
        "counts=[]\n",
        "for i in range(len(df_test)):\n",
        "  if isinstance(input_list[i], str) and pd.notna(input_list[i]):\n",
        "    input_ids = tokenizer.encode(input_list[i])\n",
        "    input_ids_len.append(len(input_ids))\n",
        "    word_count = len(input_list[i])\n",
        "    counts.append(word_count)\n",
        "  else:\n",
        "    print(f\"Skipping element at index {i} due to NaN or non-string value.\")\n",
        "\n",
        "input_ids_len=np.array(input_ids_len)\n",
        "counts=np.array(counts)\n",
        "f_score = np.mean(input_ids_len/counts)"
      ],
      "metadata": {
        "id": "65jjqqeu5HrA",
        "collapsed": true
      },
      "execution_count": null,
      "outputs": []
    },
    {
      "cell_type": "code",
      "source": [
        "f_score"
      ],
      "metadata": {
        "colab": {
          "base_uri": "https://localhost:8080/"
        },
        "id": "bZgneDWTqbQa",
        "outputId": "f4db99b9-3222-403e-c745-cf29ba31e7a0"
      },
      "execution_count": null,
      "outputs": [
        {
          "output_type": "execute_result",
          "data": {
            "text/plain": [
              "0.30628303299649967"
            ]
          },
          "metadata": {},
          "execution_count": 24
        }
      ]
    },
    {
      "cell_type": "markdown",
      "source": [
        "#### Data preperation for PRE-Training"
      ],
      "metadata": {
        "id": "WLdM_f5TDgU3"
      }
    },
    {
      "cell_type": "code",
      "source": [
        "### Importing Data\n",
        "df_1 = pd.read_csv(\"/content/cleaned_taasir_articles_filtered.csv\")\n",
        "# df_2 = pd.read_csv(\"English_2.csv\")"
      ],
      "metadata": {
        "id": "FdRfTYyVDfC4"
      },
      "execution_count": null,
      "outputs": []
    },
    {
      "cell_type": "code",
      "source": [
        "df_1.iloc[:, 0] = df_1.iloc[:, 0].astype(str) + \"<eos>\"\n",
        "# df_2.iloc[:, 0] = df_2.iloc[:, 0] + \"<eos>\""
      ],
      "metadata": {
        "id": "MwK0zpXxDfFo",
        "colab": {
          "base_uri": "https://localhost:8080/"
        },
        "outputId": "9d98dc27-c97c-4a62-c71d-f5fc7f6842a7"
      },
      "execution_count": null,
      "outputs": [
        {
          "output_type": "stream",
          "name": "stderr",
          "text": [
            "<ipython-input-28-f985f85ded26>:1: FutureWarning: Setting an item of incompatible dtype is deprecated and will raise in a future error of pandas. Value '0           0<eos>\n",
            "1           1<eos>\n",
            "2           3<eos>\n",
            "3           4<eos>\n",
            "4           5<eos>\n",
            "           ...    \n",
            "7418     9766<eos>\n",
            "7419     9767<eos>\n",
            "7420    12690<eos>\n",
            "7421    13097<eos>\n",
            "7422    13318<eos>\n",
            "Name: Unnamed: 0, Length: 7423, dtype: object' has dtype incompatible with int64, please explicitly cast to a compatible dtype first.\n",
            "  df_1.iloc[:, 0] = df_1.iloc[:, 0].astype(str) + \"<eos>\"\n"
          ]
        }
      ]
    },
    {
      "cell_type": "code",
      "source": [
        "df_1.iloc[0, 0]"
      ],
      "metadata": {
        "colab": {
          "base_uri": "https://localhost:8080/",
          "height": 36
        },
        "id": "K81L28foDfIj",
        "outputId": "58713a0a-316a-4d8c-cb3d-5a288d61c695"
      },
      "execution_count": null,
      "outputs": [
        {
          "output_type": "execute_result",
          "data": {
            "text/plain": [
              "'0<eos>'"
            ],
            "application/vnd.google.colaboratory.intrinsic+json": {
              "type": "string"
            }
          },
          "metadata": {},
          "execution_count": 29
        }
      ]
    },
    {
      "cell_type": "code",
      "source": [
        "input_ids = tokenizer(df_1.iloc[:, 0].to_list())[\"input_ids\"]"
      ],
      "metadata": {
        "id": "0K3Duiq1DfLG"
      },
      "execution_count": null,
      "outputs": []
    },
    {
      "cell_type": "code",
      "source": [
        "df_1[\"tokens\"] = input_ids"
      ],
      "metadata": {
        "id": "iRtD6a7YDfN8"
      },
      "execution_count": null,
      "outputs": []
    },
    {
      "cell_type": "code",
      "source": [
        "df_1"
      ],
      "metadata": {
        "colab": {
          "base_uri": "https://localhost:8080/",
          "height": 1000
        },
        "id": "k1aSys7jDfRd",
        "outputId": "45a01728-57b8-49aa-b057-91fe9a8b7d42"
      },
      "execution_count": null,
      "outputs": [
        {
          "output_type": "execute_result",
          "data": {
            "text/plain": [
              "      Unnamed: 0                                              Title  \\\n",
              "0         0<eos>  گنپتی وسرجن اورعید میلاد النبی (ص) جلوس کے دور...   \n",
              "1         1<eos>  اگر دہلی کے عوام نے کیجریوال کو وزیر اعلیٰ نہی...   \n",
              "2         3<eos>            عوامی شکایات کے 68 مقدمات کی ہوئی سماعت   \n",
              "3         4<eos>  وزیراعلیٰ نے گنگا ندی کے بڑھتے پانی کی سطح کا ...   \n",
              "4         5<eos>                            آتشی مرلینا کی تاجپوشی   \n",
              "...          ...                                                ...   \n",
              "7418   9766<eos>  नूंह हिंसा पर अजमेर दरगाह के दीवान ने की शांति...   \n",
              "7419   9767<eos>  इरफान अंसारी सदन के अंदर कान पकड़ कर माफी मांग...   \n",
              "7420  12690<eos>  قومی اردو کونسل کے کمپیوٹر سینٹرز کے کامیاب طل...   \n",
              "7421  13097<eos>  مہاراشٹر میں غیر قانونی طریقے سے رہ رہے 18بنگل...   \n",
              "7422  13318<eos>  عالمی برادری کو فلسطینیوں کے تحفظ کے لیے آگے ...   \n",
              "\n",
              "                                                    URL  \\\n",
              "0     https://taasir.com/2024/09/demand-for-investig...   \n",
              "1     https://taasir.com/2024/09/if-the-people-of-de...   \n",
              "2     https://taasir.com/2024/09/68-cases-of-public-...   \n",
              "3     https://taasir.com/2024/09/chief-minister-insp...   \n",
              "4     https://taasir.com/2024/09/atishi-take-oath-as...   \n",
              "...                                                 ...   \n",
              "7418  https://taasir.com/2023/08/%e0%a4%a8%e0%a5%82%...   \n",
              "7419  https://taasir.com/2023/08/%e0%a4%87%e0%a4%b0%...   \n",
              "7420  https://taasir.com/2023/03/%d9%82%d9%88%d9%85%...   \n",
              "7421  https://taasir.com/2023/03/%d9%85%db%81%d8%a7%...   \n",
              "7422  https://taasir.com/2023/02/%d8%b9%d8%a7%d9%84%...   \n",
              "\n",
              "                                                Content  \\\n",
              "0     تاثیر  ۲۱ستمبر۲۰۲۴:- ایس -ایم- حسن ممبئی ، 21 ...   \n",
              "1     تاثیر  ۲۱ستمبر۲۰۲۴:- ایس -ایم- حسن نئی دہلی، 2...   \n",
              "2                    تاثیر  ۲۱ستمبر۲۰۲۴:- ایس -ایم- حسن   \n",
              "3     تاثیر  ۲۱ستمبر۲۰۲۴:- ایس -ایم- حسن ۔ سیلاب کے ...   \n",
              "4                    تاثیر  ۲۱ستمبر۲۰۲۴:- ایس -ایم- حسن   \n",
              "...                                                 ...   \n",
              "7418  नूंह हिंसा पर अजमेर दरगाह के दीवान ने की शांति...   \n",
              "7419  इरफान अंसारी सदन के अंदर कान पकड़ कर माफी मांग...   \n",
              "7420  جدید ٹکنالوجی میں مہارت و اختصاص پیدا کرنا وقت...   \n",
              "7421  تھانے،4مارچ : مہاراشٹر کے تھانے ضلع میں پولیس ...   \n",
              "7422  قاہرہ ،24فروری : عرب لیگ نے مغربی کنارے کے شہر...   \n",
              "\n",
              "                                      tokens  \n",
              "0                   [6, 215, 1, 1, 1, 1, 34]  \n",
              "1                   [7, 215, 1, 1, 1, 1, 34]  \n",
              "2                   [9, 215, 1, 1, 1, 1, 34]  \n",
              "3                  [10, 215, 1, 1, 1, 1, 34]  \n",
              "4                  [11, 215, 1, 1, 1, 1, 34]  \n",
              "...                                      ...  \n",
              "7418   [15, 13, 12, 12, 215, 1, 1, 1, 1, 34]  \n",
              "7419   [15, 13, 12, 13, 215, 1, 1, 1, 1, 34]  \n",
              "7420  [7, 8, 12, 15, 6, 215, 1, 1, 1, 1, 34]  \n",
              "7421  [7, 9, 6, 15, 13, 215, 1, 1, 1, 1, 34]  \n",
              "7422   [7, 9, 9, 7, 14, 215, 1, 1, 1, 1, 34]  \n",
              "\n",
              "[7423 rows x 5 columns]"
            ],
            "text/html": [
              "\n",
              "  <div id=\"df-a6d8ee4c-b655-4d20-89eb-2d3d28bde751\" class=\"colab-df-container\">\n",
              "    <div>\n",
              "<style scoped>\n",
              "    .dataframe tbody tr th:only-of-type {\n",
              "        vertical-align: middle;\n",
              "    }\n",
              "\n",
              "    .dataframe tbody tr th {\n",
              "        vertical-align: top;\n",
              "    }\n",
              "\n",
              "    .dataframe thead th {\n",
              "        text-align: right;\n",
              "    }\n",
              "</style>\n",
              "<table border=\"1\" class=\"dataframe\">\n",
              "  <thead>\n",
              "    <tr style=\"text-align: right;\">\n",
              "      <th></th>\n",
              "      <th>Unnamed: 0</th>\n",
              "      <th>Title</th>\n",
              "      <th>URL</th>\n",
              "      <th>Content</th>\n",
              "      <th>tokens</th>\n",
              "    </tr>\n",
              "  </thead>\n",
              "  <tbody>\n",
              "    <tr>\n",
              "      <th>0</th>\n",
              "      <td>0&lt;eos&gt;</td>\n",
              "      <td>گنپتی وسرجن اورعید میلاد النبی (ص) جلوس کے دور...</td>\n",
              "      <td>https://taasir.com/2024/09/demand-for-investig...</td>\n",
              "      <td>تاثیر  ۲۱ستمبر۲۰۲۴:- ایس -ایم- حسن ممبئی ، 21 ...</td>\n",
              "      <td>[6, 215, 1, 1, 1, 1, 34]</td>\n",
              "    </tr>\n",
              "    <tr>\n",
              "      <th>1</th>\n",
              "      <td>1&lt;eos&gt;</td>\n",
              "      <td>اگر دہلی کے عوام نے کیجریوال کو وزیر اعلیٰ نہی...</td>\n",
              "      <td>https://taasir.com/2024/09/if-the-people-of-de...</td>\n",
              "      <td>تاثیر  ۲۱ستمبر۲۰۲۴:- ایس -ایم- حسن نئی دہلی، 2...</td>\n",
              "      <td>[7, 215, 1, 1, 1, 1, 34]</td>\n",
              "    </tr>\n",
              "    <tr>\n",
              "      <th>2</th>\n",
              "      <td>3&lt;eos&gt;</td>\n",
              "      <td>عوامی شکایات کے 68 مقدمات کی ہوئی سماعت</td>\n",
              "      <td>https://taasir.com/2024/09/68-cases-of-public-...</td>\n",
              "      <td>تاثیر  ۲۱ستمبر۲۰۲۴:- ایس -ایم- حسن</td>\n",
              "      <td>[9, 215, 1, 1, 1, 1, 34]</td>\n",
              "    </tr>\n",
              "    <tr>\n",
              "      <th>3</th>\n",
              "      <td>4&lt;eos&gt;</td>\n",
              "      <td>وزیراعلیٰ نے گنگا ندی کے بڑھتے پانی کی سطح کا ...</td>\n",
              "      <td>https://taasir.com/2024/09/chief-minister-insp...</td>\n",
              "      <td>تاثیر  ۲۱ستمبر۲۰۲۴:- ایس -ایم- حسن ۔ سیلاب کے ...</td>\n",
              "      <td>[10, 215, 1, 1, 1, 1, 34]</td>\n",
              "    </tr>\n",
              "    <tr>\n",
              "      <th>4</th>\n",
              "      <td>5&lt;eos&gt;</td>\n",
              "      <td>آتشی مرلینا کی تاجپوشی</td>\n",
              "      <td>https://taasir.com/2024/09/atishi-take-oath-as...</td>\n",
              "      <td>تاثیر  ۲۱ستمبر۲۰۲۴:- ایس -ایم- حسن</td>\n",
              "      <td>[11, 215, 1, 1, 1, 1, 34]</td>\n",
              "    </tr>\n",
              "    <tr>\n",
              "      <th>...</th>\n",
              "      <td>...</td>\n",
              "      <td>...</td>\n",
              "      <td>...</td>\n",
              "      <td>...</td>\n",
              "      <td>...</td>\n",
              "    </tr>\n",
              "    <tr>\n",
              "      <th>7418</th>\n",
              "      <td>9766&lt;eos&gt;</td>\n",
              "      <td>नूंह हिंसा पर अजमेर दरगाह के दीवान ने की शांति...</td>\n",
              "      <td>https://taasir.com/2023/08/%e0%a4%a8%e0%a5%82%...</td>\n",
              "      <td>नूंह हिंसा पर अजमेर दरगाह के दीवान ने की शांति...</td>\n",
              "      <td>[15, 13, 12, 12, 215, 1, 1, 1, 1, 34]</td>\n",
              "    </tr>\n",
              "    <tr>\n",
              "      <th>7419</th>\n",
              "      <td>9767&lt;eos&gt;</td>\n",
              "      <td>इरफान अंसारी सदन के अंदर कान पकड़ कर माफी मांग...</td>\n",
              "      <td>https://taasir.com/2023/08/%e0%a4%87%e0%a4%b0%...</td>\n",
              "      <td>इरफान अंसारी सदन के अंदर कान पकड़ कर माफी मांग...</td>\n",
              "      <td>[15, 13, 12, 13, 215, 1, 1, 1, 1, 34]</td>\n",
              "    </tr>\n",
              "    <tr>\n",
              "      <th>7420</th>\n",
              "      <td>12690&lt;eos&gt;</td>\n",
              "      <td>قومی اردو کونسل کے کمپیوٹر سینٹرز کے کامیاب طل...</td>\n",
              "      <td>https://taasir.com/2023/03/%d9%82%d9%88%d9%85%...</td>\n",
              "      <td>جدید ٹکنالوجی میں مہارت و اختصاص پیدا کرنا وقت...</td>\n",
              "      <td>[7, 8, 12, 15, 6, 215, 1, 1, 1, 1, 34]</td>\n",
              "    </tr>\n",
              "    <tr>\n",
              "      <th>7421</th>\n",
              "      <td>13097&lt;eos&gt;</td>\n",
              "      <td>مہاراشٹر میں غیر قانونی طریقے سے رہ رہے 18بنگل...</td>\n",
              "      <td>https://taasir.com/2023/03/%d9%85%db%81%d8%a7%...</td>\n",
              "      <td>تھانے،4مارچ : مہاراشٹر کے تھانے ضلع میں پولیس ...</td>\n",
              "      <td>[7, 9, 6, 15, 13, 215, 1, 1, 1, 1, 34]</td>\n",
              "    </tr>\n",
              "    <tr>\n",
              "      <th>7422</th>\n",
              "      <td>13318&lt;eos&gt;</td>\n",
              "      <td>عالمی برادری کو فلسطینیوں کے تحفظ کے لیے آگے ...</td>\n",
              "      <td>https://taasir.com/2023/02/%d8%b9%d8%a7%d9%84%...</td>\n",
              "      <td>قاہرہ ،24فروری : عرب لیگ نے مغربی کنارے کے شہر...</td>\n",
              "      <td>[7, 9, 9, 7, 14, 215, 1, 1, 1, 1, 34]</td>\n",
              "    </tr>\n",
              "  </tbody>\n",
              "</table>\n",
              "<p>7423 rows × 5 columns</p>\n",
              "</div>\n",
              "    <div class=\"colab-df-buttons\">\n",
              "\n",
              "  <div class=\"colab-df-container\">\n",
              "    <button class=\"colab-df-convert\" onclick=\"convertToInteractive('df-a6d8ee4c-b655-4d20-89eb-2d3d28bde751')\"\n",
              "            title=\"Convert this dataframe to an interactive table.\"\n",
              "            style=\"display:none;\">\n",
              "\n",
              "  <svg xmlns=\"http://www.w3.org/2000/svg\" height=\"24px\" viewBox=\"0 -960 960 960\">\n",
              "    <path d=\"M120-120v-720h720v720H120Zm60-500h600v-160H180v160Zm220 220h160v-160H400v160Zm0 220h160v-160H400v160ZM180-400h160v-160H180v160Zm440 0h160v-160H620v160ZM180-180h160v-160H180v160Zm440 0h160v-160H620v160Z\"/>\n",
              "  </svg>\n",
              "    </button>\n",
              "\n",
              "  <style>\n",
              "    .colab-df-container {\n",
              "      display:flex;\n",
              "      gap: 12px;\n",
              "    }\n",
              "\n",
              "    .colab-df-convert {\n",
              "      background-color: #E8F0FE;\n",
              "      border: none;\n",
              "      border-radius: 50%;\n",
              "      cursor: pointer;\n",
              "      display: none;\n",
              "      fill: #1967D2;\n",
              "      height: 32px;\n",
              "      padding: 0 0 0 0;\n",
              "      width: 32px;\n",
              "    }\n",
              "\n",
              "    .colab-df-convert:hover {\n",
              "      background-color: #E2EBFA;\n",
              "      box-shadow: 0px 1px 2px rgba(60, 64, 67, 0.3), 0px 1px 3px 1px rgba(60, 64, 67, 0.15);\n",
              "      fill: #174EA6;\n",
              "    }\n",
              "\n",
              "    .colab-df-buttons div {\n",
              "      margin-bottom: 4px;\n",
              "    }\n",
              "\n",
              "    [theme=dark] .colab-df-convert {\n",
              "      background-color: #3B4455;\n",
              "      fill: #D2E3FC;\n",
              "    }\n",
              "\n",
              "    [theme=dark] .colab-df-convert:hover {\n",
              "      background-color: #434B5C;\n",
              "      box-shadow: 0px 1px 3px 1px rgba(0, 0, 0, 0.15);\n",
              "      filter: drop-shadow(0px 1px 2px rgba(0, 0, 0, 0.3));\n",
              "      fill: #FFFFFF;\n",
              "    }\n",
              "  </style>\n",
              "\n",
              "    <script>\n",
              "      const buttonEl =\n",
              "        document.querySelector('#df-a6d8ee4c-b655-4d20-89eb-2d3d28bde751 button.colab-df-convert');\n",
              "      buttonEl.style.display =\n",
              "        google.colab.kernel.accessAllowed ? 'block' : 'none';\n",
              "\n",
              "      async function convertToInteractive(key) {\n",
              "        const element = document.querySelector('#df-a6d8ee4c-b655-4d20-89eb-2d3d28bde751');\n",
              "        const dataTable =\n",
              "          await google.colab.kernel.invokeFunction('convertToInteractive',\n",
              "                                                    [key], {});\n",
              "        if (!dataTable) return;\n",
              "\n",
              "        const docLinkHtml = 'Like what you see? Visit the ' +\n",
              "          '<a target=\"_blank\" href=https://colab.research.google.com/notebooks/data_table.ipynb>data table notebook</a>'\n",
              "          + ' to learn more about interactive tables.';\n",
              "        element.innerHTML = '';\n",
              "        dataTable['output_type'] = 'display_data';\n",
              "        await google.colab.output.renderOutput(dataTable, element);\n",
              "        const docLink = document.createElement('div');\n",
              "        docLink.innerHTML = docLinkHtml;\n",
              "        element.appendChild(docLink);\n",
              "      }\n",
              "    </script>\n",
              "  </div>\n",
              "\n",
              "\n",
              "<div id=\"df-c1e15c62-56fd-43cd-ad77-3ed5ff4e54d0\">\n",
              "  <button class=\"colab-df-quickchart\" onclick=\"quickchart('df-c1e15c62-56fd-43cd-ad77-3ed5ff4e54d0')\"\n",
              "            title=\"Suggest charts\"\n",
              "            style=\"display:none;\">\n",
              "\n",
              "<svg xmlns=\"http://www.w3.org/2000/svg\" height=\"24px\"viewBox=\"0 0 24 24\"\n",
              "     width=\"24px\">\n",
              "    <g>\n",
              "        <path d=\"M19 3H5c-1.1 0-2 .9-2 2v14c0 1.1.9 2 2 2h14c1.1 0 2-.9 2-2V5c0-1.1-.9-2-2-2zM9 17H7v-7h2v7zm4 0h-2V7h2v10zm4 0h-2v-4h2v4z\"/>\n",
              "    </g>\n",
              "</svg>\n",
              "  </button>\n",
              "\n",
              "<style>\n",
              "  .colab-df-quickchart {\n",
              "      --bg-color: #E8F0FE;\n",
              "      --fill-color: #1967D2;\n",
              "      --hover-bg-color: #E2EBFA;\n",
              "      --hover-fill-color: #174EA6;\n",
              "      --disabled-fill-color: #AAA;\n",
              "      --disabled-bg-color: #DDD;\n",
              "  }\n",
              "\n",
              "  [theme=dark] .colab-df-quickchart {\n",
              "      --bg-color: #3B4455;\n",
              "      --fill-color: #D2E3FC;\n",
              "      --hover-bg-color: #434B5C;\n",
              "      --hover-fill-color: #FFFFFF;\n",
              "      --disabled-bg-color: #3B4455;\n",
              "      --disabled-fill-color: #666;\n",
              "  }\n",
              "\n",
              "  .colab-df-quickchart {\n",
              "    background-color: var(--bg-color);\n",
              "    border: none;\n",
              "    border-radius: 50%;\n",
              "    cursor: pointer;\n",
              "    display: none;\n",
              "    fill: var(--fill-color);\n",
              "    height: 32px;\n",
              "    padding: 0;\n",
              "    width: 32px;\n",
              "  }\n",
              "\n",
              "  .colab-df-quickchart:hover {\n",
              "    background-color: var(--hover-bg-color);\n",
              "    box-shadow: 0 1px 2px rgba(60, 64, 67, 0.3), 0 1px 3px 1px rgba(60, 64, 67, 0.15);\n",
              "    fill: var(--button-hover-fill-color);\n",
              "  }\n",
              "\n",
              "  .colab-df-quickchart-complete:disabled,\n",
              "  .colab-df-quickchart-complete:disabled:hover {\n",
              "    background-color: var(--disabled-bg-color);\n",
              "    fill: var(--disabled-fill-color);\n",
              "    box-shadow: none;\n",
              "  }\n",
              "\n",
              "  .colab-df-spinner {\n",
              "    border: 2px solid var(--fill-color);\n",
              "    border-color: transparent;\n",
              "    border-bottom-color: var(--fill-color);\n",
              "    animation:\n",
              "      spin 1s steps(1) infinite;\n",
              "  }\n",
              "\n",
              "  @keyframes spin {\n",
              "    0% {\n",
              "      border-color: transparent;\n",
              "      border-bottom-color: var(--fill-color);\n",
              "      border-left-color: var(--fill-color);\n",
              "    }\n",
              "    20% {\n",
              "      border-color: transparent;\n",
              "      border-left-color: var(--fill-color);\n",
              "      border-top-color: var(--fill-color);\n",
              "    }\n",
              "    30% {\n",
              "      border-color: transparent;\n",
              "      border-left-color: var(--fill-color);\n",
              "      border-top-color: var(--fill-color);\n",
              "      border-right-color: var(--fill-color);\n",
              "    }\n",
              "    40% {\n",
              "      border-color: transparent;\n",
              "      border-right-color: var(--fill-color);\n",
              "      border-top-color: var(--fill-color);\n",
              "    }\n",
              "    60% {\n",
              "      border-color: transparent;\n",
              "      border-right-color: var(--fill-color);\n",
              "    }\n",
              "    80% {\n",
              "      border-color: transparent;\n",
              "      border-right-color: var(--fill-color);\n",
              "      border-bottom-color: var(--fill-color);\n",
              "    }\n",
              "    90% {\n",
              "      border-color: transparent;\n",
              "      border-bottom-color: var(--fill-color);\n",
              "    }\n",
              "  }\n",
              "</style>\n",
              "\n",
              "  <script>\n",
              "    async function quickchart(key) {\n",
              "      const quickchartButtonEl =\n",
              "        document.querySelector('#' + key + ' button');\n",
              "      quickchartButtonEl.disabled = true;  // To prevent multiple clicks.\n",
              "      quickchartButtonEl.classList.add('colab-df-spinner');\n",
              "      try {\n",
              "        const charts = await google.colab.kernel.invokeFunction(\n",
              "            'suggestCharts', [key], {});\n",
              "      } catch (error) {\n",
              "        console.error('Error during call to suggestCharts:', error);\n",
              "      }\n",
              "      quickchartButtonEl.classList.remove('colab-df-spinner');\n",
              "      quickchartButtonEl.classList.add('colab-df-quickchart-complete');\n",
              "    }\n",
              "    (() => {\n",
              "      let quickchartButtonEl =\n",
              "        document.querySelector('#df-c1e15c62-56fd-43cd-ad77-3ed5ff4e54d0 button');\n",
              "      quickchartButtonEl.style.display =\n",
              "        google.colab.kernel.accessAllowed ? 'block' : 'none';\n",
              "    })();\n",
              "  </script>\n",
              "</div>\n",
              "\n",
              "  <div id=\"id_91490f65-3bf9-4469-b765-a5b3494b377f\">\n",
              "    <style>\n",
              "      .colab-df-generate {\n",
              "        background-color: #E8F0FE;\n",
              "        border: none;\n",
              "        border-radius: 50%;\n",
              "        cursor: pointer;\n",
              "        display: none;\n",
              "        fill: #1967D2;\n",
              "        height: 32px;\n",
              "        padding: 0 0 0 0;\n",
              "        width: 32px;\n",
              "      }\n",
              "\n",
              "      .colab-df-generate:hover {\n",
              "        background-color: #E2EBFA;\n",
              "        box-shadow: 0px 1px 2px rgba(60, 64, 67, 0.3), 0px 1px 3px 1px rgba(60, 64, 67, 0.15);\n",
              "        fill: #174EA6;\n",
              "      }\n",
              "\n",
              "      [theme=dark] .colab-df-generate {\n",
              "        background-color: #3B4455;\n",
              "        fill: #D2E3FC;\n",
              "      }\n",
              "\n",
              "      [theme=dark] .colab-df-generate:hover {\n",
              "        background-color: #434B5C;\n",
              "        box-shadow: 0px 1px 3px 1px rgba(0, 0, 0, 0.15);\n",
              "        filter: drop-shadow(0px 1px 2px rgba(0, 0, 0, 0.3));\n",
              "        fill: #FFFFFF;\n",
              "      }\n",
              "    </style>\n",
              "    <button class=\"colab-df-generate\" onclick=\"generateWithVariable('df_1')\"\n",
              "            title=\"Generate code using this dataframe.\"\n",
              "            style=\"display:none;\">\n",
              "\n",
              "  <svg xmlns=\"http://www.w3.org/2000/svg\" height=\"24px\"viewBox=\"0 0 24 24\"\n",
              "       width=\"24px\">\n",
              "    <path d=\"M7,19H8.4L18.45,9,17,7.55,7,17.6ZM5,21V16.75L18.45,3.32a2,2,0,0,1,2.83,0l1.4,1.43a1.91,1.91,0,0,1,.58,1.4,1.91,1.91,0,0,1-.58,1.4L9.25,21ZM18.45,9,17,7.55Zm-12,3A5.31,5.31,0,0,0,4.9,8.1,5.31,5.31,0,0,0,1,6.5,5.31,5.31,0,0,0,4.9,4.9,5.31,5.31,0,0,0,6.5,1,5.31,5.31,0,0,0,8.1,4.9,5.31,5.31,0,0,0,12,6.5,5.46,5.46,0,0,0,6.5,12Z\"/>\n",
              "  </svg>\n",
              "    </button>\n",
              "    <script>\n",
              "      (() => {\n",
              "      const buttonEl =\n",
              "        document.querySelector('#id_91490f65-3bf9-4469-b765-a5b3494b377f button.colab-df-generate');\n",
              "      buttonEl.style.display =\n",
              "        google.colab.kernel.accessAllowed ? 'block' : 'none';\n",
              "\n",
              "      buttonEl.onclick = () => {\n",
              "        google.colab.notebook.generateWithVariable('df_1');\n",
              "      }\n",
              "      })();\n",
              "    </script>\n",
              "  </div>\n",
              "\n",
              "    </div>\n",
              "  </div>\n"
            ],
            "application/vnd.google.colaboratory.intrinsic+json": {
              "type": "dataframe",
              "variable_name": "df_1",
              "summary": "{\n  \"name\": \"df_1\",\n  \"rows\": 7423,\n  \"fields\": [\n    {\n      \"column\": \"Unnamed: 0\",\n      \"properties\": {\n        \"dtype\": \"string\",\n        \"num_unique_values\": 7423,\n        \"samples\": [\n          \"1339<eos>\",\n          \"3201<eos>\",\n          \"116<eos>\"\n        ],\n        \"semantic_type\": \"\",\n        \"description\": \"\"\n      }\n    },\n    {\n      \"column\": \"Title\",\n      \"properties\": {\n        \"dtype\": \"string\",\n        \"num_unique_values\": 7398,\n        \"samples\": [\n          \"\\u062a\\u062d\\u0641\\u0638 \\u0634\\u0631\\u06cc\\u0639\\u062a \\u062c\\u0648\\u06a9\\u06cc \\u06c1\\u0627\\u0679 \\u06a9\\u06cc \\u062c\\u0627\\u0646\\u0628 \\u0633\\u06d2 \\u0622\\u062a\\u0634\\u0632\\u062f\\u06af\\u06cc \\u06a9\\u06d2 \\u0645\\u062a\\u0627\\u062b\\u0631\\u06cc\\u0646 \\u06a9\\u06cc \\u0627\\u0645\\u062f\\u0627\\u062f\\u06d4\",\n          \"\\u0648\\u0632\\u06cc\\u0631\\u0627\\u0639\\u0644\\u06cc\\u0670 \\u06af\\u06c1\\u0644\\u0648\\u062a \\u06a9\\u06d2 \\u0627\\u0648 \\u0627\\u06cc\\u0633 \\u0688\\u06cc \\u0646\\u06d2 \\u0633\\u0686\\u0646 \\u067e\\u0627\\u0626\\u0644\\u0679 \\u0633\\u06d2 \\u06a9\\u06cc \\u0645\\u0644\\u0627\\u0642\\u0627\\u062a\",\n          \"\\u0686\\u062a\\u0631\\u0627 \\u0645\\u06cc\\u06ba \\u0627\\u06cc\\u06a9 \\u06a9\\u0631\\u0648\\u0691 40 \\u0644\\u0627\\u06a9\\u06be \\u0631\\u0648\\u067e\\u06d2 \\u0645\\u0627\\u0644\\u06cc\\u062a \\u06a9\\u06cc \\u0627\\u0641\\u06cc\\u0648\\u0646 \\u0633\\u0645\\u06cc\\u062a \\u0628\\u0627\\u067e \\u0628\\u06cc\\u0679\\u0627 \\u06af\\u0631\\u0641\\u062a\\u0627\\u0631\"\n        ],\n        \"semantic_type\": \"\",\n        \"description\": \"\"\n      }\n    },\n    {\n      \"column\": \"URL\",\n      \"properties\": {\n        \"dtype\": \"string\",\n        \"num_unique_values\": 7423,\n        \"samples\": [\n          \"https://taasir.com/2024/07/%d8%b3%da%91%da%a9%db%8c%da%ba-%d8%aa%d8%b1%d9%82%db%8c-%da%a9%d8%a7-%d9%85%d8%ad%d9%88%d8%b1-%db%81%db%8c%da%ba%d8%8c-%d8%b3%da%91%da%a9%d9%88%da%ba-%da%a9%db%92-%d8%a8%d8%ba%db%8c%d8%b1-%d8%aa%d8%b1/?lang=Urdu\",\n          \"https://taasir.com/2024/04/%d8%b9%d9%84%db%8c-%da%af%da%91%da%be-%d9%88%d8%a7%d9%84%d9%88%da%ba-%d8%a7%db%8c%d8%b3%d8%a7-%d8%aa%d8%a7%d9%84%d8%a7-%d8%a8%d9%86%d8%a7%d8%a4-%d8%ac%d9%88-%d8%a8%db%8c-%d8%ac%db%92-%d9%be%db%8c/?lang=Urdu\",\n          \"https://taasir.com/2024/09/hindi-is-the-language-that-binds-the-country-together/?lang=Urdu\"\n        ],\n        \"semantic_type\": \"\",\n        \"description\": \"\"\n      }\n    },\n    {\n      \"column\": \"Content\",\n      \"properties\": {\n        \"dtype\": \"string\",\n        \"num_unique_values\": 6485,\n        \"samples\": [\n          \"\\u062a\\u0627\\u062b\\u06cc\\u0631\\u060c\\u06f1\\u06f7\\u0645\\u0627\\u0631\\u0686\\u06f2\\u06f0\\u06f2\\u06f4:- \\u0627\\u06cc\\u0633 -\\u0627\\u06cc\\u0645- \\u062d\\u0633\\u0646 \\u06a9\\u0627\\u0628\\u0644\\u060c17\\u0645\\u0627\\u0631\\u0686:\\u0627\\u06cc\\u06a9 \\u0635\\u0648\\u0628\\u0627\\u0626\\u06cc \\u0627\\u06c1\\u0644\\u06a9\\u0627\\u0631 \\u0646\\u06d2 \\u0628\\u062a\\u0627\\u06cc\\u0627 \\u06a9\\u06c1 \\u0627\\u062a\\u0648\\u0627\\u0631 \\u06a9\\u0648 \\u0627\\u0641\\u063a\\u0627\\u0646\\u0633\\u062a\\u0627\\u0646 \\u06a9\\u06d2 \\u062c\\u0646\\u0648\\u0628\\u06cc \\u0635\\u0648\\u0628\\u06d2 \\u06c1\\u0644\\u0645\\u0646\\u062f \\u0645\\u06cc\\u06ba \\u0627\\u06cc\\u06a9 \\u0628\\u0633 \\u06a9\\u06d2 \\u062a\\u06cc\\u0644 \\u06a9\\u06d2 \\u0679\\u06cc\\u0646\\u06a9\\u0631 \\u0627\\u0648\\u0631 \\u0645\\u0648\\u0679\\u0631 \\u0633\\u0627\\u0626\\u06cc\\u06a9\\u0644 \\u0633\\u06d2 \\u062a\\u0635\\u0627\\u062f\\u0645 \\u06a9\\u06d2 \\u0646\\u062a\\u06cc\\u062c\\u06d2 \\u0645\\u06cc\\u06ba 21 \\u0627\\u0641\\u0631\\u0627\\u062f \\u06c1\\u0644\\u0627\\u06a9 \\u0627\\u0648\\u0631 38 \\u0632\\u062e\\u0645\\u06cc \\u06c1\\u0648 \\u06af\\u0626\\u06d2\\u06d4 \\u0635\\u0648\\u0628\\u0627\\u0626\\u06cc \\u06af\\u0648\\u0631\\u0646\\u0631 \\u06a9\\u06d2 \\u062a\\u0631\\u062c\\u0645\\u0627\\u0646 \\u0645\\u062d\\u0645\\u062f \\u0642\\u0627\\u0633\\u0645 \\u0631\\u06cc\\u0627\\u0636 \\u0646\\u06d2 \\u0627\\u06d2 \\u0627\\u06cc\\u0641 \\u067e\\u06cc \\u06a9\\u0648 \\u0628\\u062a\\u0627\\u06cc\\u0627 \\u06a9\\u06c1 \\u201c\\u0627\\u0628 \\u062a\\u06a9 \\u06c1\\u0645\\u06cc\\u06ba \\u0645\\u0648\\u0635\\u0648\\u0644 \\u06c1\\u0648\\u0646\\u06d2 \\u0648\\u0627\\u0644\\u06cc \\u0645\\u0639\\u0644\\u0648\\u0645\\u0627\\u062a \\u06a9\\u06cc \\u0628\\u0646\\u06cc\\u0627\\u062f \\u067e\\u0631 \\u0627\\u0653\\u062c \\u0635\\u0628\\u062d \\u0633\\u0648\\u06cc\\u0631\\u06d2 \\u0627\\u06cc\\u06a9 \\u0645\\u0633\\u0627\\u0641\\u0631 \\u0628\\u0633\\u060c \\u0627\\u06cc\\u06a9 \\u0679\\u06cc\\u0646\\u06a9\\u0631 \\u0627\\u0648\\u0631 \\u0627\\u06cc\\u06a9 \\u0645\\u0648\\u0679\\u0631 \\u0633\\u0627\\u0626\\u06cc\\u06a9\\u0644 \\u06a9\\u06d2 \\u062f\\u0631\\u0645\\u06cc\\u0627\\u0646\\u201d \\u062d\\u0627\\u062f\\u062b\\u06d2 \\u0645\\u06cc\\u06ba 21 \\u0627\\u0641\\u0631\\u0627\\u062f \\u06c1\\u0644\\u0627\\u06a9 \\u06c1\\u0648 \\u06af\\u0626\\u06d2\\u06d4\\u0635\\u0648\\u0628\\u0627\\u0626\\u06cc \\u0645\\u062d\\u06a9\\u0645\\u06c1 \\u0627\\u0637\\u0644\\u0627\\u0639\\u0627\\u062a \\u0646\\u06d2 \\u0628\\u062a\\u0627\\u06cc\\u0627 \\u06a9\\u06c1 \\u062a\\u0635\\u0627\\u062f\\u0645 \\u0645\\u06cc\\u06ba \\u0645\\u0632\\u06cc\\u062f 38 \\u0627\\u0641\\u0631\\u0627\\u062f \\u0632\\u062e\\u0645\\u06cc \\u06c1\\u0648\\u0626\\u06d2 \\u062c\\u0633 \\u0633\\u06d2 \\u0631\\u06cc\\u0627\\u0636 \\u06a9\\u06cc \\u0637\\u0631\\u0641 \\u0633\\u06d2 \\u0641\\u0631\\u0627\\u06c1\\u0645 \\u06a9\\u0631\\u062f\\u06c1 \\u0627\\u0628\\u062a\\u062f\\u0627\\u0626\\u06cc 11 \\u06a9\\u06cc \\u062a\\u0639\\u062f\\u0627\\u062f \\u0645\\u06cc\\u06ba \\u062a\\u0627\\u0632\\u06c1 \\u0627\\u0636\\u0627\\u0641\\u06c1 \\u06c1\\u0648\\u0627\\u06d4\\u062a\\u0635\\u0627\\u062f\\u0645 \\u06a9\\u06cc \\u0648\\u062c\\u06c1 \\u0633\\u06d2 \\u06af\\u0627\\u0691\\u06cc\\u0648\\u06ba \\u0645\\u06cc\\u06ba \\u0627\\u0653\\u06af \\u0628\\u06be\\u0691\\u06a9 \\u0627\\u0679\\u06be\\u06cc \\u0627\\u0648\\u0631 \\u06c1\\u0644\\u0645\\u0646\\u062f \\u06a9\\u06d2 \\u0645\\u062d\\u06a9\\u0645? \\u0627\\u0637\\u0644\\u0627\\u0639\\u0627\\u062a \\u06a9\\u06cc \\u062c\\u0627\\u0646\\u0628 \\u0633\\u06d2 \\u0633\\u0648\\u0634\\u0644 \\u0645\\u06cc\\u0688\\u06cc\\u0627 \\u067e\\u0631 \\u0627\\u0634\\u062a\\u0631\\u0627\\u06a9 \\u06a9\\u0631\\u062f\\u06c1 \\u062a\\u0635\\u0627\\u0648\\u06cc\\u0631 \\u0645\\u06cc\\u06ba \\u0633\\u0648\\u062e\\u062a\\u06c1 \\u0627\\u0648\\u0631 \\u0645\\u0633\\u062e \\u0634\\u062f\\u06c1 \\u062f\\u06be\\u0627\\u062a\\u06cc \\u0688\\u06be\\u0627\\u0646\\u0686\\u06c1 \\u0627\\u0648\\u0631 \\u0679\\u06cc\\u0646\\u06a9\\u0631 \\u06a9\\u0627 \\u06a9\\u0686\\u0644\\u0627 \\u06c1\\u0648\\u0627 \\u06a9\\u06cc\\u0628\\u0646 \\u062f\\u06a9\\u06be\\u0627\\u06cc\\u0627 \\u06af\\u06cc\\u0627 \\u06c1\\u06d2\\u06d4\\u06cc\\u06c1 \\u062d\\u0627\\u062f\\u062b\\u06c1 \\u0627\\u062a\\u0648\\u0627\\u0631 \\u06a9\\u06cc \\u0635\\u0628\\u062d \\u06c1\\u0644\\u0645\\u0646\\u062f \\u06a9\\u06d2 \\u0636\\u0644\\u0639 \\u06af\\u0631\\u0634\\u06a9 \\u0645\\u06cc\\u06ba \\u062f\\u0627\\u0631\\u0627\\u0644\\u062d\\u06a9\\u0648\\u0645\\u062a \\u06a9\\u0627\\u0628\\u0644 \\u0627\\u0648\\u0631 \\u0634\\u0645\\u0627\\u0644\\u06cc \\u06c1\\u0631\\u0627\\u062a \\u0634\\u06c1\\u0631 \\u06a9\\u06d2 \\u062f\\u0631\\u0645\\u06cc\\u0627\\u0646 \\u0627\\u06cc\\u06a9 \\u0645\\u0631\\u06a9\\u0632\\u06cc \\u0634\\u0627\\u06c1\\u0631\\u0627\\u06c1 \\u067e\\u0631 \\u067e\\u06cc\\u0634 \\u0627\\u0653\\u06cc\\u0627\\u06d4\\u0627\\u0641\\u063a\\u0627\\u0646\\u0633\\u062a\\u0627\\u0646 \\u0645\\u06cc\\u06ba \\u06c1\\u0644\\u0627\\u06a9\\u062a \\u062e\\u06cc\\u0632 \\u0679\\u0631\\u06cc\\u0641\\u06a9 \\u062d\\u0627\\u062f\\u062b\\u0627\\u062a \\u0639\\u0627\\u0645 \\u06c1\\u06cc\\u06ba \\u062c\\u0633 \\u06a9\\u06cc \\u0627\\u06cc\\u06a9 \\u0648\\u062c\\u06c1 \\u062e\\u0631\\u0627\\u0628 \\u0633\\u0691\\u06a9\\u06cc\\u06ba\\u060c \\u06c1\\u0627\\u0626\\u06cc \\u0648\\u06cc\\u0632 \\u067e\\u0631 \\u062e\\u0637\\u0631\\u0646\\u0627\\u06a9 \\u0688\\u0631\\u0627\\u0626\\u06cc\\u0648\\u0646\\u06af \\u0627\\u0648\\u0631 \\u0636\\u0627\\u0628\\u0637\\u06d2 \\u06a9\\u06cc \\u06a9\\u0645\\u06cc \\u06c1\\u06d2\\u06d4\\u062f\\u0633\\u0645\\u0628\\u0631 2022 \\u0645\\u06cc\\u06ba \\u062a\\u06cc\\u0644 \\u06a9\\u0627 \\u0627\\u06cc\\u06a9 \\u0679\\u06cc\\u0646\\u06a9\\u0631 \\u0627\\u0644\\u0679 \\u062c\\u0627\\u0646\\u06d2 \\u0633\\u06d2 \\u0627\\u0641\\u063a\\u0627\\u0646\\u0633\\u062a\\u0627\\u0646 \\u06a9\\u06d2 \\u0628\\u0644\\u0646\\u062f \\u0648 \\u0628\\u0627\\u0644\\u0627 \\u062f\\u0631? \\u0633\\u0627\\u0644\\u0646\\u06af \\u0645\\u06cc\\u06ba \\u0627\\u0653\\u06af \\u0644\\u06af \\u06af\\u0626\\u06cc \\u062c\\u0633 \\u0633\\u06d2 31 \\u0627\\u0641\\u0631\\u0627\\u062f \\u06c1\\u0644\\u0627\\u06a9 \\u0627\\u0648\\u0631 \\u062f\\u0631\\u062c\\u0646\\u0648\\u06ba \\u0632\\u062e\\u0645\\u06cc \\u06c1\\u0648 \\u06af\\u0626\\u06d2 \\u062a\\u06be\\u06d2\\u06d4\",\n          \"\\u062a\\u0627\\u062b\\u06cc\\u0631\\u060c\\u06f1\\u06f1\\u0646\\u0648\\u0645\\u0628\\u0631\\u06f2\\u06f0\\u06f2\\u06f3:- \\u0627\\u06cc\\u0633 -\\u0627\\u06cc\\u0645- \\u062d\\u0633\\u0646 \\u2018\\u06a9\\u0627\\u0641\\u06cc \\u0648\\u062f \\u06a9\\u0631\\u0646\\u2019 \\u06a9\\u0627 \\u0627\\u0653\\u0679\\u06be\\u0648\\u0627\\u06ba \\u0633\\u06cc\\u0632\\u0646 \\u062c\\u0627\\u0631\\u06cc \\u06c1\\u06d2\\u06d4 \\u06a9\\u0631\\u0646 \\u062c\\u0648\\u06c1\\u0631 \\u06a9\\u06d2 \\u0686\\u06cc\\u0679 \\u0634\\u0648 \\u06a9\\u0627 \\u0627\\u06cc\\u06a9 \\u0646\\u06cc\\u0627 \\u0627\\u06cc\\u067e\\u06cc \\u0633\\u0648\\u0688 \\u06c1\\u0631 \\u062c\\u0645\\u0639\\u0631\\u0627\\u062a \\u06a9\\u0648 \\u0646\\u0634\\u0631 \\u06c1\\u0648\\u062a\\u0627 \\u06c1\\u06d2\\u06d4 \\u0627\\u0628 \\u062a\\u06a9 \\u0627\\u0633 \\u06a9\\u06d2 \\u062a\\u06cc\\u0646 \\u062d\\u0635\\u06d2 \\u062c\\u0627\\u0631\\u06cc \\u06c1\\u0648 \\u0686\\u06a9\\u06d2 \\u06c1\\u06cc\\u06ba\\u06d4 \\u0627\\u0653\\u0679\\u06be\\u0648\\u06cc\\u06ba \\u0633\\u06cc\\u0632\\u0646 \\u06a9\\u0627 \\u0627\\u0653\\u063a\\u0627\\u0632 \\u0631\\u0646\\u0648\\u06cc\\u0631 \\u0633\\u0646\\u06af\\u06be \\u0627\\u0648\\u0631 \\u062f\\u06cc\\u067e\\u06cc\\u06a9\\u0627 \\u067e\\u062f\\u0648\\u06a9\\u0648\\u0646 \\u06a9\\u06d2 \\u0633\\u0627\\u062a\\u06be \\u06c1\\u0648\\u0627\\u06d4 \\u0633\\u0646\\u06cc \\u062f\\u06cc\\u0648\\u0644 \\u0627\\u0648\\u0631 \\u0628\\u0648\\u0628\\u06cc \\u062f\\u06cc\\u0648\\u0644 \\u062f\\u0648\\u0633\\u0631\\u06d2 \\u0627\\u06cc\\u067e\\u06cc \\u0633\\u0648\\u0688 \\u0645\\u06cc\\u06ba \\u0646\\u0638\\u0631 \\u0627\\u0653\\u0626\\u06d2 \\u062a\\u06be\\u06d2 \\u0627\\u0648\\u0631 \\u0627\\u0633\\u0679\\u0627\\u0631 \\u06a9\\u0688\\u0632 \\u0633\\u0627\\u0631\\u06c1 \\u0639\\u0644\\u06cc \\u062e\\u0627\\u0646 \\u0627\\u0648\\u0631 \\u0627\\u0646\\u0646\\u06cc\\u0627 \\u067e\\u0627\\u0646\\u0688\\u06d2 \\u062a\\u06cc\\u0633\\u0631\\u06d2 \\u0627\\u06cc\\u067e\\u06cc \\u0633\\u0648\\u0688 \\u0645\\u06cc\\u06ba \\u0646\\u0638\\u0631 \\u0627\\u0653\\u0626\\u06d2 \\u062a\\u06be\\u06d2\\u06d4 \\u0627\\u0628 \\u062c\\u0628 \\u06a9\\u06c1 \\u0644\\u0648\\u06af \\u0627\\u0633 \\u06a9\\u06d2 \\u0627\\u06af\\u0644\\u06d2 \\u062d\\u0635\\u06d2 \\u06a9\\u06d2 \\u0628\\u0627\\u0631\\u06d2 \\u0645\\u06cc\\u06ba \\u0645\\u062a\\u062c\\u0633\\u0633 \\u06c1\\u06cc\\u06ba\\u060c \\u0627\\u0633 \\u06a9\\u06d2 \\u0628\\u0627\\u0631\\u06d2 \\u0645\\u06cc\\u06ba \\u0646\\u0626\\u06cc \\u0645\\u0639\\u0644\\u0648\\u0645\\u0627\\u062a \\u0633\\u0627\\u0645\\u0646\\u06d2 \\u0627\\u0653 \\u0631\\u06c1\\u06cc \\u06c1\\u06cc\\u06ba\\u06d4\\u0645\\u06cc\\u0688\\u06cc\\u0627 \\u0631\\u067e\\u0648\\u0631\\u0679\\u0633 \\u06a9\\u06d2 \\u0645\\u0637\\u0627\\u0628\\u0642 \\u06a9\\u06c1\\u0627 \\u062c\\u0627 \\u0631\\u06c1\\u0627 \\u06c1\\u06d2 \\u06a9\\u06c1 \\u0633\\u0644\\u0645\\u0627\\u0646 \\u062e\\u0627\\u0646 \\u062c\\u0644\\u062f \\u06c1\\u06cc \\u2018\\u06a9\\u0627\\u0641\\u06cc \\u0648\\u062f \\u06a9\\u0631\\u0646\\u2019 \\u06a9\\u06d2 \\u0633\\u06cc\\u0632\\u0646 8 \\u0645\\u06cc\\u06ba \\u0646\\u0638\\u0631 \\u0627\\u0653\\u0626\\u06cc\\u06ba \\u06af\\u06d2\\u06d4 \\u0645\\u06cc\\u0688\\u06cc\\u0627 \\u0631\\u067e\\u0648\\u0631\\u0679\\u0633 \\u06a9\\u06d2 \\u0645\\u0637\\u0627\\u0628\\u0642 \\u06a9\\u0631\\u0646 \\u062c\\u0648\\u06c1\\u0631 \\u0627\\u0633 \\u0646\\u0626\\u06d2 \\u0633\\u06cc\\u0632\\u0646 \\u0645\\u06cc\\u06ba \\u0633\\u0644\\u0645\\u0627\\u0646 \\u06a9\\u0648 \\u0645\\u062f\\u0639\\u0648 \\u06a9\\u0631\\u0646\\u06d2 \\u062c\\u0627 \\u0631\\u06c1\\u06d2 \\u06c1\\u06cc\\u06ba\\u060c \\u06a9\\u0631\\u0646 \\u0646\\u06d2 \\u0633\\u0644\\u0645\\u0627\\u0646 \\u0633\\u06d2 \\u0628\\u0627\\u062a \\u0686\\u06cc\\u062a \\u0628\\u06be\\u06cc \\u0634\\u0631\\u0648\\u0639 \\u06a9\\u0631 \\u062f\\u06cc \\u06c1\\u06d2\\u06d4 \\u06cc\\u06c1 \\u0628\\u06be\\u06cc \\u06a9\\u06c1\\u0627 \\u062c\\u0627\\u0631\\u06c1\\u0627 \\u06c1\\u06d2 \\u06a9\\u06c1 \\u0627\\u0633 \\u0633\\u06cc\\u0632\\u0646 \\u06a9\\u0627 \\u0627\\u062e\\u062a\\u062a\\u0627\\u0645 \\u0633\\u0644\\u0645\\u0627\\u0646 \\u062e\\u0627\\u0646 \\u06a9\\u06cc \\u0645\\u0648\\u062c\\u0648\\u062f\\u06af\\u06cc \\u06a9\\u06d2 \\u0633\\u0627\\u062a\\u06be \\u06c1\\u0648\\u06af\\u0627\\u06d4\\u0641\\u06cc \\u0627\\u0644\\u062d\\u0627\\u0644\\u060c \\u0634\\u0648 \\u06a9\\u06d2 \\u0628\\u0646\\u0627\\u0646\\u06d2 \\u0648\\u0627\\u0644\\u06d2 \\u0627\\u06cc\\u06a9 \\u0645\\u0634\\u06c1\\u0648\\u0631 \\u0627\\u0633\\u0679\\u0627\\u0631 \\u06a9\\u06cc \\u062a\\u0644\\u0627\\u0634 \\u0645\\u06cc\\u06ba \\u06c1\\u06cc\\u06ba \\u062c\\u0648 \\u0633\\u0644\\u0645\\u0627\\u0646 \\u06a9\\u06d2 \\u0633\\u0627\\u062a\\u06be \\u0646\\u0638\\u0631 \\u0627\\u0653\\u0626\\u06d2\\u06d4 \\u0633\\u0644\\u0645\\u0627\\u0646 \\u0646\\u06d2 \\u0627\\u0628\\u06be\\u06cc \\u062a\\u06a9 \\u0627\\u0633 \\u0628\\u0627\\u0631\\u06d2 \\u0645\\u06cc\\u06ba \\u06a9\\u0648\\u0626\\u06cc \\u0633\\u0631\\u06a9\\u0627\\u0631\\u06cc \\u0628\\u06cc\\u0627\\u0646 \\u0646\\u06c1\\u06cc\\u06ba \\u062f\\u06cc\\u0627 \\u06c1\\u06d2\\u06d4 \\u0633\\u0644\\u0645\\u0627\\u0646 \\u062e\\u0627\\u0646 \\u0627\\u0633 \\u0633\\u06d2 \\u067e\\u06c1\\u0644\\u06d2 \\u062f\\u0648 \\u0628\\u0627\\u0631 \\u2018\\u06a9\\u0627\\u0641\\u06cc \\u0648\\u062f \\u06a9\\u0631\\u0646\\u2019 \\u0645\\u06cc\\u06ba \\u0646\\u0638\\u0631 \\u0627\\u0653 \\u0686\\u06a9\\u06d2 \\u06c1\\u06cc\\u06ba\\u06d4 \\u0686\\u0648\\u062a\\u06be\\u06d2 \\u0633\\u06cc\\u0632\\u0646 \\u0645\\u06cc\\u06ba \\u0633\\u0644\\u0645\\u0627\\u0646 \\u067e\\u06c1\\u0644\\u06cc \\u0628\\u0627\\u0631 \\u0634\\u0648 \\u0645\\u06cc\\u06ba \\u067e\\u06c1\\u0646\\u0686\\u06d2\\u06d4 \\u0627\\u0646 \\u06a9\\u06d2 \\u0633\\u0627\\u062a\\u06be \\u0627\\u0646 \\u06a9\\u06d2 \\u0648\\u0627\\u0644\\u062f \\u0633\\u0644\\u06cc\\u0645 \\u062e\\u0627\\u0646 \\u0628\\u06be\\u06cc \\u0627\\u0653\\u0626\\u06d2\\u06d4 \\u0648\\u06c1 \\u0627\\u067e\\u0646\\u06d2 \\u0628\\u06be\\u0627\\u0626\\u06cc\\u0648\\u06ba \\u0627\\u0631\\u0628\\u0627\\u0632 \\u0627\\u0648\\u0631 \\u0633\\u06c1\\u06cc\\u0644 \\u06a9\\u06d2 \\u0633\\u0627\\u062a\\u06be 2016-17 \\u0645\\u06cc\\u06ba \\u0631\\u06cc\\u0644\\u06cc\\u0632 \\u06c1\\u0648\\u0646\\u06d2 \\u0648\\u0627\\u0644\\u06d2 \\u2018\\u06a9\\u0627\\u0641\\u06cc \\u0648\\u062f \\u06a9\\u0631\\u0646\\u2019 \\u06a9\\u06d2 \\u067e\\u0627\\u0646\\u0686\\u0648\\u06cc\\u06ba \\u0633\\u06cc\\u0632\\u0646 \\u0645\\u06cc\\u06ba \\u0646\\u0638\\u0631 \\u0627\\u0653\\u0626\\u06d2 \\u062a\\u06be\\u06d2\\u06d4\\u06a9\\u0631\\u0646 \\u06a9\\u06d2 \\u0644\\u06cc\\u06d2 \\u0627\\u067e\\u0646\\u06d2 \\u0634\\u0648 \\u0645\\u06cc\\u06ba \\u0645\\u06c1\\u0645\\u0627\\u0646\\u0648\\u06ba \\u06a9\\u06cc \\u0627\\u06cc\\u06a9 \\u062c\\u0648\\u0691\\u06cc \\u06a9\\u0648 \\u0645\\u062f\\u0639\\u0648 \\u06a9\\u0631\\u0646\\u0627 \\u0627\\u06cc\\u06a9 \\u0631\\u0648\\u0627\\u06cc\\u062a \\u0628\\u0646 \\u06af\\u0626\\u06cc \\u06c1\\u06d2\\u06d4 \\u0627\\u06cc\\u0633\\u06d2 \\u0645\\u06cc\\u06ba \\u0645\\u06cc\\u06a9\\u0631\\u0633 \\u0641\\u06cc \\u0627\\u0644\\u062d\\u0627\\u0644 \\u0627\\u0653\\u0679\\u06be\\u0648\\u06cc\\u06ba \\u0633\\u06cc\\u0632\\u0646 \\u06a9\\u06d2 \\u0644\\u06cc\\u06d2 \\u0633\\u0644\\u0645\\u0627\\u0646 \\u06a9\\u06d2 \\u0633\\u0627\\u062a\\u06be\\u06cc \\u06a9\\u06cc \\u062a\\u0644\\u0627\\u0634 \\u0645\\u06cc\\u06ba \\u06c1\\u06cc\\u06ba\\u06d4 \\u0628\\u0627\\u062a \\u06c1\\u06d2 \\u06a9\\u06c1 \\u0633\\u0644\\u0645\\u0627\\u0646 \\u0627\\u0633 \\u0633\\u06cc\\u0632\\u0646 \\u0645\\u06cc\\u06ba \\u06a9\\u062a\\u0631\\u06cc\\u0646\\u06c1 \\u06a9\\u06cc\\u0641 \\u06cc\\u0627 \\u0639\\u0645\\u0631\\u0627\\u0646 \\u06c1\\u0627\\u0634\\u0645\\u06cc \\u06a9\\u06d2 \\u0633\\u0627\\u062a\\u06be \\u0646\\u0638\\u0631 \\u0627\\u0653\\u0626\\u06cc\\u06ba \\u06af\\u06d2\\u06d4 \\u0641\\u06cc \\u0627\\u0644\\u062d\\u0627\\u0644 \\u0627\\u0646 \\u062a\\u06cc\\u0646\\u0648\\u06ba \\u06a9\\u06cc \\u0641\\u0644\\u0645 \\u2018\\u0679\\u0627\\u0626\\u06cc\\u06af\\u0631 3\\u2019 \\u0628\\u062d\\u062b \\u0645\\u06cc\\u06ba \\u06c1\\u06d2\\u06d4 \\u0627\\u06cc\\u0633\\u06d2 \\u0645\\u06cc\\u06ba \\u0633\\u0644\\u0645\\u0627\\u0646 \\u06a9\\u0648 \\u06a9\\u0631\\u0646 \\u062c\\u0648\\u06c1\\u0631 \\u06a9\\u06d2 \\u0634\\u0648 \\u0645\\u06cc\\u06ba \\u0627\\u0646 \\u062f\\u0648\\u0646\\u0648\\u06ba \\u0645\\u06cc\\u06ba \\u0633\\u06d2 \\u06a9\\u0633\\u06cc \\u0627\\u06cc\\u06a9 \\u06a9\\u06d2 \\u0633\\u0627\\u062a\\u06be \\u062f\\u06cc\\u06a9\\u06be\\u0627 \\u062c\\u0627 \\u0633\\u06a9\\u062a\\u0627 \\u06c1\\u06d2\\u06d4 \\u0641\\u06cc \\u0627\\u0644\\u062d\\u0627\\u0644 \\u06cc\\u06c1 \\u0648\\u0627\\u0636\\u062d \\u06c1\\u06d2 \\u06a9\\u06c1 \\u06a9\\u0631\\u0646 \\u06a9\\u06d2 \\u0634\\u0648 \\u06a9\\u06cc \\u0627\\u06af\\u0644\\u06cc \\u0642\\u0633\\u0637 \\u0645\\u06cc\\u06ba \\u06a9\\u0631\\u06cc\\u0646\\u06c1 \\u06a9\\u067e\\u0648\\u0631\\u060c \\u0639\\u0627\\u0644\\u06cc\\u06c1 \\u0628\\u06be\\u0679\\u060c \\u0627\\u062c\\u06d2 \\u062f\\u06cc\\u0648\\u06af\\u0646\\u060c \\u0631\\u0648\\u06c1\\u062a \\u0634\\u06cc\\u0679\\u06cc\\u060c \\u06a9\\u0627\\u062c\\u0648\\u0644 \\u0627\\u0648\\u0631 \\u0631\\u0627\\u0646\\u06cc \\u0645\\u06a9\\u06be\\u0631\\u062c\\u06cc \\u0646\\u0638\\u0631 \\u0627\\u0653\\u0626\\u06cc\\u06ba \\u06af\\u06cc\\u06d4\\u0627\\u0633 \\u06a9\\u06d2 \\u0639\\u0644\\u0627\\u0648\\u06c1 \\u06a9\\u06c1\\u0627 \\u062c\\u0627 \\u0631\\u06c1\\u0627 \\u06c1\\u06d2 \\u06a9\\u06c1 \\u06a9\\u0631\\u0646 \\u062c\\u0648\\u06c1\\u0631 \\u062a\\u0642\\u0631\\u06cc\\u0628\\u0627\\u064b 25 \\u0633\\u0627\\u0644 \\u0628\\u0639\\u062f \\u2018\\u06a9\\u0686\\u06be \\u06a9\\u0686\\u06be \\u06c1\\u0648\\u062a\\u0627 \\u06c1\\u06d2\\u2019 \\u06a9\\u06d2 \\u0628\\u0639\\u062f \\u0633\\u0644\\u0645\\u0627\\u0646 \\u06a9\\u06d2 \\u0633\\u0627\\u062a\\u06be \\u0641\\u0644\\u0645 \\u06a9\\u0631 \\u0631\\u06c1\\u06d2 \\u06c1\\u06cc\\u06ba\\u06d4 \\u06cc\\u06c1 \\u0627\\u06cc\\u06a9 \\u0627\\u06cc\\u06a9\\u0634\\u0646 \\u062a\\u06be\\u0631\\u0644\\u0631 \\u0641\\u0644\\u0645 \\u06c1\\u0648\\u06af\\u06cc \\u062c\\u0633 \\u0645\\u06cc\\u06ba \\u0633\\u0644\\u0645\\u0627\\u0646 \\u0627\\u06cc\\u06a9 \\u067e\\u06cc\\u0631\\u0627 \\u0645\\u0644\\u0679\\u0631\\u06cc \\u0627\\u0653\\u0641\\u06cc\\u0633\\u0631 \\u06a9\\u06d2 \\u06a9\\u0631\\u062f\\u0627\\u0631 \\u0645\\u06cc\\u06ba \\u0646\\u0638\\u0631 \\u0627\\u0653\\u0626\\u06cc\\u06ba \\u06af\\u06d2\\u06d4 \\u0641\\u0644\\u0645 \\u06a9\\u06cc \\u06c1\\u062f\\u0627\\u06cc\\u062a \\u06a9\\u0627\\u0631\\u06cc \\u2018\\u0634\\u06cc\\u0631\\u0634\\u0627\\u06c1\\u2019 \\u0641\\u06cc\\u0645 \\u0648\\u0634\\u0646\\u0648 \\u0648\\u0631\\u062f\\u06be\\u0646 \\u06a9\\u0631\\u06cc\\u06ba \\u06af\\u06d2 \\u062c\\u0628\\u06a9\\u06c1 \\u06a9\\u0631\\u0646 \\u062c\\u0648\\u06c1\\u0631 \\u0627\\u0633\\u06d2 \\u067e\\u0631\\u0648\\u0688\\u06cc\\u0648\\u0633 \\u06a9\\u0631\\u06cc\\u06ba \\u06af\\u06d2\\u06d4\",\n          \"\\u062a\\u0627\\u062b\\u06cc\\u0631\\u060c\\u06f2\\u06f7\\u0641\\u0631\\u0648\\u0631\\u06cc\\u06f2\\u06f0\\u06f2\\u06f4:- \\u0627\\u06cc\\u0633 -\\u0627\\u06cc\\u0645- \\u062d\\u0633\\u0646 \\u0646\\u0626\\u06cc \\u062f\\u06c1\\u0644\\u06cc\\u060c 27 \\u0641\\u0631\\u0648\\u0631\\u06cc: \\u0642\\u0648\\u0645\\u06cc \\u0631\\u0627\\u062c\\u062f\\u06be\\u0627\\u0646\\u06cc \\u062f\\u06c1\\u0644\\u06cc \\u0627\\u0648\\u0631 \\u0627\\u06cc\\u0646 \\u0633\\u06cc \\u0627\\u0653\\u0631 \\u06a9\\u06d2 \\u06a9\\u0626\\u06cc \\u0639\\u0644\\u0627\\u0642\\u0648\\u06ba \\u0645\\u06cc\\u06ba \\u0627\\u0653\\u062c \\u0635\\u0628\\u062d \\u0645\\u0648\\u0633\\u0645 \\u0646\\u06d2 \\u0627\\u0686\\u0627\\u0646\\u06a9 \\u06a9\\u0631\\u0648\\u0679 \\u0644\\u06cc\\u06d4 \\u062f\\u0646 \\u06a9\\u0627 \\u0627\\u0653\\u063a\\u0627\\u0632 \\u06c1\\u0644\\u06a9\\u06cc \\u0628\\u0627\\u0631\\u0634 \\u0633\\u06d2 \\u06c1\\u0648\\u0627\\u06d4 \\u0628\\u0639\\u0636 \\u0645\\u0642\\u0627\\u0645\\u0627\\u062a \\u067e\\u0631 \\u062a\\u06cc\\u0632 \\u0628\\u0648\\u0646\\u062f\\u06cc\\u06ba \\u06af\\u0631\\u06cc\\u06ba\\u06d4 \\u062f\\u06c1\\u0644\\u06cc \\u06a9\\u06d2 \\u0639\\u0644\\u06cc \\u067e\\u0648\\u0631\\u060c \\u0628\\u0631\\u0627\\u0691\\u06cc \\u0631\\u0648\\u06c1\\u0646\\u06cc\\u060c \\u0628\\u0627\\u062f\\u0644\\u06cc\\u060c \\u0645\\u0627\\u0688\\u0644 \\u0679\\u0627\\u0648\\u0646 \\u0648\\u063a\\u06cc\\u0631\\u06c1 \\u0645\\u06cc\\u06ba \\u0635\\u0628\\u062d \\u0646\\u0648 \\u0628\\u062c\\u06d2 \\u06a9\\u06d2 \\u0642\\u0631\\u06cc\\u0628 \\u0628\\u0627\\u0631\\u0634 \\u06a9\\u0627 \\u0627\\u0645\\u06a9\\u0627\\u0646 \\u06c1\\u06d2\\u06d4\\u06c1\\u0646\\u062f\\u0648\\u0633\\u062a\\u0627\\u0646 \\u06a9\\u06d2 \\u0645\\u062d\\u06a9\\u0645\\u06c1 \\u0645\\u0648\\u0633\\u0645\\u06cc\\u0627\\u062a \\u06a9\\u06d2 \\u0645\\u0637\\u0627\\u0628\\u0642 \\u0648\\u06cc\\u0633\\u0679\\u0631\\u0646 \\u0688\\u0633\\u0679\\u0631\\u0628\\u0646\\u0633 \\u06a9\\u06cc \\u0648\\u062c\\u06c1 \\u0633\\u06d2 \\u0627\\u0653\\u062c \\u0628\\u06be\\u06cc \\u067e\\u06c1\\u0627\\u0691\\u06cc \\u0639\\u0644\\u0627\\u0642\\u0648\\u06ba \\u0645\\u06cc\\u06ba \\u0628\\u0631\\u0641 \\u0628\\u0627\\u0631\\u06cc \\u06a9\\u0627 \\u0627\\u0645\\u06a9\\u0627\\u0646 \\u06c1\\u06d2\\u06d4 \\u062c\\u0645\\u0648\\u06ba \\u0648 \\u06a9\\u0634\\u0645\\u06cc\\u0631 \\u0627\\u0648\\u0631 \\u06c1\\u0645\\u0627\\u0686\\u0644 \\u067e\\u0631\\u062f\\u06cc\\u0634 \\u0645\\u06cc\\u06ba \\u0628\\u0631\\u0641 \\u0628\\u0627\\u0631\\u06cc \\u062c\\u0627\\u0631\\u06cc \\u0631\\u06c1\\u06d2 \\u06af\\u06cc\\u06d4 \\u062f\\u06c1\\u0644\\u06cc-\\u0627\\u06cc\\u0646 \\u0633\\u06cc \\u0627\\u0653\\u0631 \\u0645\\u06cc\\u06ba \\u0627\\u0653\\u062c \\u0632\\u06cc\\u0627\\u062f\\u06c1 \\u0633\\u06d2 \\u0632\\u06cc\\u0627\\u062f\\u06c1 \\u0627\\u0648\\u0631 \\u06a9\\u0645 \\u0633\\u06d2 \\u06a9\\u0645 \\u062f\\u0631\\u062c\\u06c1 \\u062d\\u0631\\u0627\\u0631\\u062a \\u0628\\u0627\\u0644\\u062a\\u0631\\u062a\\u06cc\\u0628 25 \\u0627\\u0648\\u0631 13 \\u0688\\u06af\\u0631\\u06cc \\u0633\\u06cc\\u0644\\u0633\\u06cc\\u0633 \\u06c1\\u0648\\u0633\\u06a9\\u062a\\u0627 \\u06c1\\u06d2\\u06d4 \\u062f\\u06c1\\u0644\\u06cc-\\u0627\\u06cc\\u0646 \\u0633\\u06cc \\u0627\\u0653\\u0631 \\u06a9\\u06d2 \\u0639\\u0644\\u0627\\u0648\\u06c1 \\u067e\\u0646\\u062c\\u0627\\u0628\\u060c \\u06c1\\u0631\\u06cc\\u0627\\u0646\\u06c1\\u060c \\u0645\\u062f\\u06be\\u06cc\\u06c1 \\u067e\\u0631\\u062f\\u06cc\\u0634\\u060c \\u0628\\u06c1\\u0627\\u0631\\u060c \\u0645\\u063a\\u0631\\u0628\\u06cc \\u0628\\u0646\\u06af\\u0627\\u0644 \\u0633\\u0645\\u06cc\\u062a \\u06a9\\u0626\\u06cc \\u0631\\u06cc\\u0627\\u0633\\u062a\\u0648\\u06ba \\u0645\\u06cc\\u06ba \\u0628\\u0627\\u0631\\u0634 \\u06a9\\u06cc \\u062a\\u0648\\u0642\\u0639 \\u06c1\\u06d2\\u06d4\\u0645\\u062d\\u06a9\\u0645\\u06c1 \\u0646\\u06d2 \\u067e\\u06cc\\u0634\\u0646 \\u06a9\\u06cc \\u06c1\\u06d2 \\u06a9\\u06c1 \\u062f\\u06c1\\u0644\\u06cc \\u0645\\u06cc\\u06ba 2 \\u0645\\u0627\\u0631\\u0686 \\u06a9\\u0648 \\u0628\\u06be\\u06cc \\u06c1\\u0644\\u06a9\\u06cc \\u0628\\u0627\\u0631\\u0634 \\u06c1\\u0648\\u06af\\u06cc \\u062c\\u0633 \\u06a9\\u06cc \\u0648\\u062c\\u06c1 \\u0633\\u06d2 \\u0632\\u06cc\\u0627\\u062f\\u06c1 \\u0633\\u06d2 \\u0632\\u06cc\\u0627\\u062f\\u06c1 \\u062f\\u0631\\u062c\\u06c1 \\u062d\\u0631\\u0627\\u0631\\u062a \\u062f\\u0648 \\u0633\\u06d2 \\u062a\\u06cc\\u0646 \\u0688\\u06af\\u0631\\u06cc \\u0633\\u06cc\\u0644\\u0633\\u06cc\\u0633 \\u062a\\u06a9 \\u06af\\u0631 \\u0633\\u06a9\\u062a\\u0627 \\u06c1\\u06d2\\u06d4 \\u0645\\u0627\\u0631\\u0686 \\u06a9\\u06d2 \\u062f\\u0648\\u0633\\u0631\\u06d2 \\u06c1\\u0641\\u062a\\u06d2 \\u0633\\u06d2 \\u0632\\u06cc\\u0627\\u062f\\u06c1 \\u0633\\u06d2 \\u0632\\u06cc\\u0627\\u062f\\u06c1 \\u0627\\u0648\\u0631 \\u06a9\\u0645 \\u0633\\u06d2 \\u06a9\\u0645 \\u062f\\u0631\\u062c\\u06c1 \\u062d\\u0631\\u0627\\u0631\\u062a \\u0645\\u06cc\\u06ba \\u0627\\u0636\\u0627\\u0641\\u06c1 \\u06c1\\u0648\\u06af\\u0627\\u06d4\"\n        ],\n        \"semantic_type\": \"\",\n        \"description\": \"\"\n      }\n    },\n    {\n      \"column\": \"tokens\",\n      \"properties\": {\n        \"dtype\": \"object\",\n        \"semantic_type\": \"\",\n        \"description\": \"\"\n      }\n    }\n  ]\n}"
            }
          },
          "metadata": {},
          "execution_count": 32
        }
      ]
    }
  ]
}