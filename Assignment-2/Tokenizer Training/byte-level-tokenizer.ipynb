{
 "cells": [
  {
   "cell_type": "code",
   "execution_count": 1,
   "metadata": {},
   "outputs": [
    {
     "name": "stderr",
     "output_type": "stream",
     "text": [
      "/Library/Frameworks/Python.framework/Versions/3.12/lib/python3.12/site-packages/tqdm/auto.py:21: TqdmWarning: IProgress not found. Please update jupyter and ipywidgets. See https://ipywidgets.readthedocs.io/en/stable/user_install.html\n",
      "  from .autonotebook import tqdm as notebook_tqdm\n"
     ]
    }
   ],
   "source": [
    "import os\n",
    "from tqdm import tqdm\n",
    "import pandas as pd\n",
    "import argparse\n",
    "from tokenizers import SentencePieceBPETokenizer\n",
    "from transformers import PreTrainedTokenizerFast\n",
    "import argparse\n",
    "import datetime\n",
    "import pandas as pd\n",
    "from sklearn.model_selection import train_test_split"
   ]
  },
  {
   "cell_type": "code",
   "execution_count": 2,
   "metadata": {},
   "outputs": [],
   "source": [
    "from tokenizers import ByteLevelBPETokenizer\n",
    "from transformers import PreTrainedTokenizerFast\n",
    "\n",
    "def train_byte_level_tokenizer(data_list, vocab_size=32768, model_name=\"./urdu_byte_tokenizer_v2\"):\n",
    "    ## Set special tokens\n",
    "    bos_tok = \"<sos>\"\n",
    "    eos_tok = \"<end_of_sen>\"\n",
    "    \n",
    "    # Special characters, add more as needed\n",
    "    special_char = [\"0\", \"1\", \"2\", \"3\", \"4\", \"5\", \"6\", \"7\", \"8\", \"9\"]\n",
    "    \n",
    "    # Initialize ByteLevelBPETokenizer\n",
    "    tokenizer = ByteLevelBPETokenizer()\n",
    "\n",
    "    # Train the tokenizer\n",
    "    tokenizer.train_from_iterator(\n",
    "        data_list,\n",
    "        vocab_size=vocab_size,\n",
    "        min_frequency=5,\n",
    "        special_tokens=[\"<pad>\", \"<unk>\", bos_tok, eos_tok, \"<user>\", \"<assistant>\"] + special_char\n",
    "    )\n",
    "\n",
    "    # Wrap with transformers PreTrainedTokenizerFast\n",
    "    transformer_tokenizer = PreTrainedTokenizerFast(\n",
    "        tokenizer_object=tokenizer,\n",
    "        bos_token=bos_tok,\n",
    "        eos_token=eos_tok,\n",
    "        unk_token=\"<unk>\",\n",
    "        pad_token=\"<pad>\",\n",
    "        mask_token=\"<mask>\",\n",
    "        padding_side=\"left\",\n",
    "        truncation_side=\"right\",\n",
    "        additional_special_tokens=[\"<user>\", \"<assistant>\"],\n",
    "        clean_up_tokenization_spaces=False,\n",
    "    )\n",
    "\n",
    "    # Save the tokenizer\n",
    "    transformer_tokenizer.save_pretrained(model_name)\n",
    "    return transformer_tokenizer\n"
   ]
  },
  {
   "cell_type": "code",
   "execution_count": 1,
   "metadata": {},
   "outputs": [
    {
     "name": "stderr",
     "output_type": "stream",
     "text": [
      "/Library/Frameworks/Python.framework/Versions/3.12/lib/python3.12/site-packages/tqdm/auto.py:21: TqdmWarning: IProgress not found. Please update jupyter and ipywidgets. See https://ipywidgets.readthedocs.io/en/stable/user_install.html\n",
      "  from .autonotebook import tqdm as notebook_tqdm\n"
     ]
    },
    {
     "name": "stdout",
     "output_type": "stream",
     "text": [
      "\n",
      "\n",
      "\n",
      "Fertility Score Matrix:\n",
      "               Tokenizer  Fertility Score  Dataset Size (MB)\n",
      "0  ByteLevelBPETokenizer         1.126726              500.0\n"
     ]
    }
   ],
   "source": [
    "import os\n",
    "from tokenizers import ByteLevelBPETokenizer\n",
    "from transformers import PreTrainedTokenizerFast\n",
    "import pandas as pd\n",
    "\n",
    "# Define the paths and target size for data sampling\n",
    "data_path = \"/Users/pranav/Desktop/nlp-tokeniser/scraped_data\"\n",
    "target_size = 500 * 1024 * 1024  # 500 MB in bytes\n",
    "\n",
    "# Step 1: Load 500 MB of data\n",
    "def load_data_subset(data_path, target_size):\n",
    "    data = []\n",
    "    current_size = 0\n",
    "    for filename in os.listdir(data_path):\n",
    "        file_path = os.path.join(data_path, filename)\n",
    "        with open(file_path, 'r', encoding='utf-8') as f:\n",
    "            lines = f.readlines()\n",
    "            for line in lines:\n",
    "                if current_size >= target_size:\n",
    "                    return data\n",
    "                data.append(line.strip())\n",
    "                current_size += len(line.encode('utf-8'))\n",
    "    return data\n",
    "\n",
    "# Load 500 MB of data for training\n",
    "data_sample = load_data_subset(data_path, target_size)\n",
    "\n",
    "# Step 2: Train the ByteLevelBPETokenizer\n",
    "def train_tokenizer(data, vocab_size=32768, model_name=\"./urdu_tokenizer_v3\"):\n",
    "    tokenizer = ByteLevelBPETokenizer()\n",
    "    tokenizer.train_from_iterator(data, vocab_size=vocab_size, min_frequency=5, special_tokens=[\"<pad>\", \"<unk>\", \"<sos>\", \"<end_of_sen>\"])\n",
    "    return PreTrainedTokenizerFast(tokenizer_object=tokenizer)\n",
    "\n",
    "# Train the tokenizer on the sampled data\n",
    "tokenizer = train_tokenizer(data_sample)\n",
    "\n",
    "# Step 3: Calculate fertility score on the entire dataset\n",
    "def calculate_fertility_score_dataset(tokenizer, data):\n",
    "    total_words = 0\n",
    "    total_tokens = 0\n",
    "    for line in data:\n",
    "        words = line.split()\n",
    "        tokens = tokenizer.tokenize(line)\n",
    "        total_words += len(words)\n",
    "        total_tokens += len(tokens)\n",
    "    return total_tokens / total_words if total_words > 0 else 0\n",
    "\n",
    "# Calculate fertility score for the entire dataset\n",
    "fertility_score = calculate_fertility_score_dataset(tokenizer, data_sample)\n",
    "\n",
    "# Step 4: Display results in a matrix\n",
    "results = pd.DataFrame({\n",
    "    \"Tokenizer\": [\"ByteLevelBPETokenizer\"],\n",
    "    \"Fertility Score\": [fertility_score],\n",
    "    \"Dataset Size (MB)\": [target_size / (1024 * 1024)]\n",
    "})\n",
    "\n",
    "print(\"Fertility Score Matrix:\")\n",
    "print(results)\n"
   ]
  }
 ],
 "metadata": {
  "kernelspec": {
   "display_name": "Python 3",
   "language": "python",
   "name": "python3"
  },
  "language_info": {
   "codemirror_mode": {
    "name": "ipython",
    "version": 3
   },
   "file_extension": ".py",
   "mimetype": "text/x-python",
   "name": "python",
   "nbconvert_exporter": "python",
   "pygments_lexer": "ipython3",
   "version": "3.12.1"
  }
 },
 "nbformat": 4,
 "nbformat_minor": 2
}
