{
 "cells": [
  {
   "cell_type": "code",
   "execution_count": 1,
   "metadata": {},
   "outputs": [],
   "source": [
    "import pandas as pd\n",
    "from selenium import webdriver\n",
    "from selenium.webdriver.common.by import By"
   ]
  },
  {
   "cell_type": "code",
   "execution_count": 93,
   "metadata": {},
   "outputs": [],
   "source": [
    "driver = webdriver.Chrome()"
   ]
  },
  {
   "cell_type": "code",
   "execution_count": 100,
   "metadata": {},
   "outputs": [],
   "source": [
    "url = \"https://dailyhindustanexpress.com/ur/afkare-jahan/\"\n",
    "\n",
    "driver.get(url)"
   ]
  },
  {
   "cell_type": "code",
   "execution_count": 101,
   "metadata": {},
   "outputs": [],
   "source": [
    "articles = driver.find_elements(By.TAG_NAME, \"article\")"
   ]
  },
  {
   "cell_type": "code",
   "execution_count": 66,
   "metadata": {},
   "outputs": [
    {
     "data": {
      "text/plain": [
       "12"
      ]
     },
     "execution_count": 66,
     "metadata": {},
     "output_type": "execute_result"
    }
   ],
   "source": [
    "len(articles)"
   ]
  },
  {
   "cell_type": "code",
   "execution_count": 68,
   "metadata": {},
   "outputs": [],
   "source": [
    "heading_div = articles[0].find_element(By.CLASS_NAME, \"jeg_postblock_content\")"
   ]
  },
  {
   "cell_type": "code",
   "execution_count": 69,
   "metadata": {},
   "outputs": [],
   "source": [
    "main_heading = heading_div.find_element(By.CLASS_NAME, \"jeg_post_title\")"
   ]
  },
  {
   "cell_type": "code",
   "execution_count": 70,
   "metadata": {},
   "outputs": [
    {
     "data": {
      "text/plain": [
       "('اسماعیل ہنیہ علامہ یوسف القرضاوی کے پہلو میں سپردِ خاک',\n",
       " 'https://dailyhindustanexpress.com/ismail-haniya-laid-to-rest-in-doha/')"
      ]
     },
     "execution_count": 70,
     "metadata": {},
     "output_type": "execute_result"
    }
   ],
   "source": [
    "anchor = main_heading.find_element(By.TAG_NAME, \"a\")\n",
    "anchor.text, anchor.get_attribute(\"href\")"
   ]
  },
  {
   "cell_type": "code",
   "execution_count": 102,
   "metadata": {},
   "outputs": [],
   "source": [
    "heading_divs = [article.find_element(By.CLASS_NAME, \"jeg_postblock_content\") for article in articles]\n",
    "main_headings = [heading_div.find_element(By.CLASS_NAME, \"jeg_post_title\") for heading_div in heading_divs]\n",
    "anchors = [main_heading.find_element(By.TAG_NAME, \"a\") for main_heading in main_headings]\n",
    "texts = [anchor.text for anchor in anchors]\n",
    "hrefs = [anchor.get_attribute(\"href\") for anchor in anchors]\n",
    "next_button = driver.find_elements(By.CLASS_NAME, \"page_nav\")\n",
    "urls = [button.get_attribute(\"href\") for button in next_button]\n",
    "url = urls[0]"
   ]
  },
  {
   "cell_type": "code",
   "execution_count": 97,
   "metadata": {},
   "outputs": [
    {
     "data": {
      "text/plain": [
       "'https://dailyhindustanexpress.com/ur/afkare-jahan/page/2/'"
      ]
     },
     "execution_count": 97,
     "metadata": {},
     "output_type": "execute_result"
    }
   ],
   "source": [
    "url"
   ]
  },
  {
   "cell_type": "code",
   "execution_count": 103,
   "metadata": {},
   "outputs": [
    {
     "data": {
      "text/html": [
       "<div>\n",
       "<style scoped>\n",
       "    .dataframe tbody tr th:only-of-type {\n",
       "        vertical-align: middle;\n",
       "    }\n",
       "\n",
       "    .dataframe tbody tr th {\n",
       "        vertical-align: top;\n",
       "    }\n",
       "\n",
       "    .dataframe thead th {\n",
       "        text-align: right;\n",
       "    }\n",
       "</style>\n",
       "<table border=\"1\" class=\"dataframe\">\n",
       "  <thead>\n",
       "    <tr style=\"text-align: right;\">\n",
       "      <th></th>\n",
       "      <th>text</th>\n",
       "      <th>href</th>\n",
       "    </tr>\n",
       "  </thead>\n",
       "  <tbody>\n",
       "    <tr>\n",
       "      <th>0</th>\n",
       "      <td>اسماعیل ہنیہ علامہ یوسف القرضاوی کے پہلو میں س...</td>\n",
       "      <td>https://dailyhindustanexpress.com/ismail-haniy...</td>\n",
       "    </tr>\n",
       "    <tr>\n",
       "      <th>1</th>\n",
       "      <td>سائبر کرائم کے متاثرین کیلئے قانونی امداد کی ف...</td>\n",
       "      <td>https://dailyhindustanexpress.com/urgent-need-...</td>\n",
       "    </tr>\n",
       "    <tr>\n",
       "      <th>2</th>\n",
       "      <td>اسرائیلی وزیراعظم کوامریکی کانگریس سے خطاب کی ...</td>\n",
       "      <td>https://dailyhindustanexpress.com/invitation-t...</td>\n",
       "    </tr>\n",
       "    <tr>\n",
       "      <th>3</th>\n",
       "      <td>ابراہیم رئیسی کی آخری رسوم کی ادائیگی کا عملاً...</td>\n",
       "      <td>https://dailyhindustanexpress.com/ibrahim-rais...</td>\n",
       "    </tr>\n",
       "    <tr>\n",
       "      <th>4</th>\n",
       "      <td>رفیع احمد قدوائی کے ذاتی خطوط نیشنل آرکائیوز ...</td>\n",
       "      <td>https://dailyhindustanexpress.com/rafi-ahmad-q...</td>\n",
       "    </tr>\n",
       "    <tr>\n",
       "      <th>5</th>\n",
       "      <td>مصنوعی ذہانت کا استعمال ایٹم بم کی طرح خطرناک:...</td>\n",
       "      <td>https://dailyhindustanexpress.com/using-artifi...</td>\n",
       "    </tr>\n",
       "    <tr>\n",
       "      <th>6</th>\n",
       "      <td>مسکراتے رہیں۔۔۔</td>\n",
       "      <td>https://dailyhindustanexpress.com/keep-smiling/</td>\n",
       "    </tr>\n",
       "    <tr>\n",
       "      <th>7</th>\n",
       "      <td>اسلامو فوبیا پھیلانے کا ذمہ دار سوشل میڈیا: گو...</td>\n",
       "      <td>https://dailyhindustanexpress.com/social-media...</td>\n",
       "    </tr>\n",
       "    <tr>\n",
       "      <th>8</th>\n",
       "      <td>عمران خان اور شاہ محمود کی 12 مقدمات میں ضمانت...</td>\n",
       "      <td>https://dailyhindustanexpress.com/imran-khan-a...</td>\n",
       "    </tr>\n",
       "    <tr>\n",
       "      <th>9</th>\n",
       "      <td>بزرگ اداکارہ تنوجہ اسپتال داخل</td>\n",
       "      <td>https://dailyhindustanexpress.com/veteran-acto...</td>\n",
       "    </tr>\n",
       "    <tr>\n",
       "      <th>10</th>\n",
       "      <td>پانچ ریاستوں کے انتخابی نتائج ۔۔۔</td>\n",
       "      <td>https://dailyhindustanexpress.com/election-res...</td>\n",
       "    </tr>\n",
       "    <tr>\n",
       "      <th>11</th>\n",
       "      <td>چارریاستوں کا موڈ کیا ہے؟آج  پتہ چل جائے گا</td>\n",
       "      <td>https://dailyhindustanexpress.com/what-is-the-...</td>\n",
       "    </tr>\n",
       "  </tbody>\n",
       "</table>\n",
       "</div>"
      ],
      "text/plain": [
       "                                                 text  \\\n",
       "0   اسماعیل ہنیہ علامہ یوسف القرضاوی کے پہلو میں س...   \n",
       "1   سائبر کرائم کے متاثرین کیلئے قانونی امداد کی ف...   \n",
       "2   اسرائیلی وزیراعظم کوامریکی کانگریس سے خطاب کی ...   \n",
       "3   ابراہیم رئیسی کی آخری رسوم کی ادائیگی کا عملاً...   \n",
       "4   رفیع احمد قدوائی کے ذاتی خطوط نیشنل آرکائیوز ...   \n",
       "5   مصنوعی ذہانت کا استعمال ایٹم بم کی طرح خطرناک:...   \n",
       "6                                     مسکراتے رہیں۔۔۔   \n",
       "7   اسلامو فوبیا پھیلانے کا ذمہ دار سوشل میڈیا: گو...   \n",
       "8   عمران خان اور شاہ محمود کی 12 مقدمات میں ضمانت...   \n",
       "9                      بزرگ اداکارہ تنوجہ اسپتال داخل   \n",
       "10                  پانچ ریاستوں کے انتخابی نتائج ۔۔۔   \n",
       "11        چارریاستوں کا موڈ کیا ہے؟آج  پتہ چل جائے گا   \n",
       "\n",
       "                                                 href  \n",
       "0   https://dailyhindustanexpress.com/ismail-haniy...  \n",
       "1   https://dailyhindustanexpress.com/urgent-need-...  \n",
       "2   https://dailyhindustanexpress.com/invitation-t...  \n",
       "3   https://dailyhindustanexpress.com/ibrahim-rais...  \n",
       "4   https://dailyhindustanexpress.com/rafi-ahmad-q...  \n",
       "5   https://dailyhindustanexpress.com/using-artifi...  \n",
       "6     https://dailyhindustanexpress.com/keep-smiling/  \n",
       "7   https://dailyhindustanexpress.com/social-media...  \n",
       "8   https://dailyhindustanexpress.com/imran-khan-a...  \n",
       "9   https://dailyhindustanexpress.com/veteran-acto...  \n",
       "10  https://dailyhindustanexpress.com/election-res...  \n",
       "11  https://dailyhindustanexpress.com/what-is-the-...  "
      ]
     },
     "execution_count": 103,
     "metadata": {},
     "output_type": "execute_result"
    }
   ],
   "source": [
    "# create a dataframe with columns as text and href\n",
    "\n",
    "df = pd.DataFrame({\"text\": texts, \"href\": hrefs})\n",
    "df"
   ]
  },
  {
   "cell_type": "code",
   "execution_count": 89,
   "metadata": {},
   "outputs": [
    {
     "name": "stdout",
     "output_type": "stream",
     "text": [
      "['https://dailyhindustanexpress.com/ur/afkare-jahan/', 'https://dailyhindustanexpress.com/ur/afkare-jahan/page/3/']\n"
     ]
    }
   ],
   "source": [
    "next_button = driver.find_elements(By.CLASS_NAME, \"page_nav\")\n",
    "urls = [button.get_attribute(\"href\") for button in next_button]\n",
    "print(urls)"
   ]
  },
  {
   "cell_type": "code",
   "execution_count": 104,
   "metadata": {},
   "outputs": [],
   "source": [
    "while(True):\n",
    "    try:\n",
    "        driver.get(url)\n",
    "        articles = driver.find_elements(By.TAG_NAME, \"article\")\n",
    "        heading_divs = [article.find_element(By.CLASS_NAME, \"jeg_postblock_content\") for article in articles]\n",
    "        main_headings = [heading_div.find_element(By.CLASS_NAME, \"jeg_post_title\") for heading_div in heading_divs]\n",
    "        anchors = [main_heading.find_element(By.TAG_NAME, \"a\") for main_heading in main_headings]\n",
    "        texts = [anchor.text for anchor in anchors]\n",
    "        hrefs = [anchor.get_attribute(\"href\") for anchor in anchors]\n",
    "        df = pd.concat([df, pd.DataFrame({\"text\": texts, \"href\": hrefs})])\n",
    "        next_button = driver.find_elements(By.CLASS_NAME, \"page_nav\")\n",
    "        # print(next_button)\n",
    "        urls = [button.get_attribute(\"href\") for button in next_button]\n",
    "        # print(urls)\n",
    "        url = urls[1]\n",
    "    except:\n",
    "        break"
   ]
  },
  {
   "cell_type": "code",
   "execution_count": 106,
   "metadata": {},
   "outputs": [],
   "source": [
    "df.to_csv(\"dailyhindustanexpress.csv\", index=False)"
   ]
  },
  {
   "cell_type": "code",
   "execution_count": 107,
   "metadata": {},
   "outputs": [],
   "source": [
    "df = pd.read_csv(\"dailyhindustanexpress.csv\")\n",
    "\n",
    "url1 = df[\"href\"][0]"
   ]
  },
  {
   "cell_type": "code",
   "execution_count": 108,
   "metadata": {},
   "outputs": [],
   "source": [
    "# get the text of the first article\n",
    "\n",
    "driver.get(url1)"
   ]
  },
  {
   "cell_type": "code",
   "execution_count": 110,
   "metadata": {},
   "outputs": [
    {
     "name": "stdout",
     "output_type": "stream",
     "text": [
      "\n",
      "دوحہ: تہران میں شہید ہونے والے حماس رہنما اسماعیل ہنیہ کو قطر کے دارالحکومت دوحہ میں سپردِ خاک کردیا گیا ۔ ایران میں اسرائیلی حملے میں شہید حماس کے سربراہ اسماعیل ہنیہ کو دوحہ کے لوسیل قبرستان میں علامہ یوسف القرضاوی کے پہلو میں سپردِ خاک کردیا گیا۔نماز جمعہ کے بعد اسماعیل ہنیہ کی نماز جنازہ مسجد امام محمد بن عبدالوہاب میں ادا کی گئی، جس میں امیر قطر شیخ تمیم بن حمد، امیر قطر کے والد، حماس رہنما خالد مشعل، اسماعیل ہنیہ کے بیٹوں، حماس ، فلسطینی تنظیموں الفتح اور اسلامی جہادکے نمائندوں اور دنیا بھر سے آئے اہم افراد نے شرکت کی۔\n",
      "حماس رہنما اسماعیل ہنیہ کی تصاویر اور فلسطینی پرچم اٹھائے سوگوار افراد کی بڑی تعداد جنازے میں شریک تھی، نعروں کی گونج میں اسماعیل ہنیہ کی میت امام محمد بن عبدالوہاب مسجد میں لائی گئی۔\n",
      "اس موقع پر تا حد نگاہ لوگ ہی لوگ تھے گویا انسانوں کا سیلاب اُمڈ آیا تھا۔ سوگواروں نے فلسطینی پرچم تھامے ہوئے تھے اور فضا نعرۂ تکبیر اللہ اکبر اور کلمہ شہادت سے گونجتی رہی ۔اس عظیم مجاہد کی میت کو کاندھوں پر اُٹھائے تمام راستے شرکا پرنم آنکھوں کے ساتھ امت مسلمہ کے عروج اور فلسطین کو صیہونی ریاست کے شکنجے سے آزادی دلانے میں اپنی جان قربان کرنے والے اسماعیل ہنیہ کو خراج تحسین پیش کرتے رہے۔\n",
      "\n",
      "اسماعیل ہنیہ کے جسد خاکی کو قبر میں اتارا گیا تو فضا اللہ اکبر کے نعروں سے گونج اُٹھی اور شرکا ایک دوسرے سے گلے لگ کر رونے لگے۔ فلسطینی پرچم ہوا میں سربلند اور لہراتا رہا۔دعائے مغفرت میں فلسطین کی آزادی اور صیہونی ریاست کے خاتمے کی دعا بھی کی گئی۔ قرآنی آیات کی تلاوت سے فضا کو معطر کیا جاتا رہا اور یوں شرکا کے جدوجہدِ آزادیٔ فلسطین کے عزم کے ساتھ اس عظیم رہنما کا سفرِ آخر تمام ہوا۔\n",
      "امیرِ قطر اور ترک وزیر خارجہ نے اسماعیل ہنیہ کی میت کے نزدیک کھڑے ہوکر دعائے مغفرت کی اور حماس رہنما خالد مشعل سے تعزیت کا اظہار کیا۔\n",
      "یاد رہے کہ حماس کے سربراہ اسماعیل ہنیہ 31 جولائی کو ایرانی دارالحکومت تہران میں ہونے والے اسرائیلی حملے میں شہید ہوگئے تھے، وہ ایرانی صدر محمود پزشکیان کی تقریب حلف برداری میں شرکت کے لیے تہران میں موجود تھے۔\n",
      "ایرانی میڈیا رپورٹ کے مطابق خامنہ ای سے اپنی آخری گفتگو میں کہا تھا کہ ’جب ایک لیڈر چلا جائے گا تو دوسرا لیڈر اس کی جگہ لے لے گا، یہ دنیا کا طریقہ ہے، زندگی اور موت اللہ کے ہاتھ میں ہے۔‘\n",
      "اسماعیل ہنیہ نے ایرانی سپریم لیڈر سے کہا تھا کہ ’اللہ ہی ہے جو زندگی دیتا ہے اور لیتا ہے، وہی ہے جو ہمیں ہنساتا ہے اور رلاتا ہے لیکن جو چیز ہمیشہ رہے گی وہ انشاء اللہ امت مسلمہ ہے، بقول شاعر اگر ایک بزرگ ہمیں چھوڑ کر چلے جائیں تو دوسرے اس کی جگہ لیں گے‘۔آخری گفتگو میں حماس کے سربراہ نے خامنہ ای کے لیے دعا کی تھی ’خدا آپ کو لمبی عمر، سلامتی اور صحت عطا فرمائے‘۔\n",
      "اس کے جواب میں خامنہ ای نے قرآن کی تلاوت کرتے ہوئے شہید اسماعیل ہنیہ سے کہا تھا کہ ’ آپ ایک ایسا چھوٹا گروپ ہیں جو ایک بڑی فوج امریکا، نیٹو، برطانیہ اور دیگر ممالک کو شکست دینے میں کامیاب ہوا ہے‘۔اس موقع پر ایرانی سپریم لیڈر نے مزید کہا کہ ’اسرائیل کو نیست و نابود کرنا ممکن ہے، انشاء اللہ وہ دن آئے گا جب فلسطین سمندر سے دریا تک قائم ہو گا‘۔\n",
      "حماس رہنما اسماعیل ہنیہ کی تصاویر اور فلسطینی پرچم اٹھائے سوگوار افراد کی بڑی تعداد جنازے میں شریک ہوئی۔نعروں کی گونج میں اسماعیل ہنیہ کی میت امام محمد بن عبدالوہاب مسجد میں لائی گئی۔یاد رہے کہ اسماعیل ہنیہ کی نمازِ جنازہ گزشتہ روز تہران میں بھی ادا کی گئی تھی جس میں بڑی تعداد میں شہریوں نے شرکت کی تھی۔\n",
      "\n"
     ]
    }
   ],
   "source": [
    "main_div = driver.find_element(By.CLASS_NAME, \"entry-content\")\n",
    "paragraphs = main_div.find_elements(By.TAG_NAME, \"p\")\n",
    "str = \"\"\n",
    "for paragraph in paragraphs:\n",
    "    str += paragraph.text + \"\\n\"\n",
    "print(str)"
   ]
  },
  {
   "cell_type": "code",
   "execution_count": 111,
   "metadata": {},
   "outputs": [
    {
     "data": {
      "text/html": [
       "<div>\n",
       "<style scoped>\n",
       "    .dataframe tbody tr th:only-of-type {\n",
       "        vertical-align: middle;\n",
       "    }\n",
       "\n",
       "    .dataframe tbody tr th {\n",
       "        vertical-align: top;\n",
       "    }\n",
       "\n",
       "    .dataframe thead th {\n",
       "        text-align: right;\n",
       "    }\n",
       "</style>\n",
       "<table border=\"1\" class=\"dataframe\">\n",
       "  <thead>\n",
       "    <tr style=\"text-align: right;\">\n",
       "      <th></th>\n",
       "      <th>text</th>\n",
       "      <th>href</th>\n",
       "    </tr>\n",
       "  </thead>\n",
       "  <tbody>\n",
       "    <tr>\n",
       "      <th>0</th>\n",
       "      <td>\\nدوحہ: تہران میں شہید ہونے والے حماس رہنما اس...</td>\n",
       "      <td>https://dailyhindustanexpress.com/ismail-haniy...</td>\n",
       "    </tr>\n",
       "    <tr>\n",
       "      <th>1</th>\n",
       "      <td>نئی دہلی، 13 جولائی (یو این آئی) نائب صدر جگدی...</td>\n",
       "      <td>https://dailyhindustanexpress.com/urgent-need-...</td>\n",
       "    </tr>\n",
       "    <tr>\n",
       "      <th>2</th>\n",
       "      <td>واشنگٹن: امریکی کانگریس کے ارکان نے اسرائیلی و...</td>\n",
       "      <td>https://dailyhindustanexpress.com/invitation-t...</td>\n",
       "    </tr>\n",
       "    <tr>\n",
       "      <th>3</th>\n",
       "      <td>ایک جانب ایران میں فضا سوگوار ہےتو دوسری جانب ...</td>\n",
       "      <td>https://dailyhindustanexpress.com/ibrahim-rais...</td>\n",
       "    </tr>\n",
       "    <tr>\n",
       "      <th>4</th>\n",
       "      <td>نئی دہلی، 8 مئی (یو این آئی) نیشنل آرکائیوز ...</td>\n",
       "      <td>https://dailyhindustanexpress.com/rafi-ahmad-q...</td>\n",
       "    </tr>\n",
       "    <tr>\n",
       "      <th>...</th>\n",
       "      <td>...</td>\n",
       "      <td>...</td>\n",
       "    </tr>\n",
       "    <tr>\n",
       "      <th>79</th>\n",
       "      <td>لكن لا بد أن أوضح لك أن كل هذه الأفكار المغلوط...</td>\n",
       "      <td>https://dailyhindustanexpress.com/%d9%83%d9%8a...</td>\n",
       "    </tr>\n",
       "    <tr>\n",
       "      <th>80</th>\n",
       "      <td>وبدون النمو والتقدم المستمرين، فإن كلمات مثل ا...</td>\n",
       "      <td>https://dailyhindustanexpress.com/%d9%83%d9%8a...</td>\n",
       "    </tr>\n",
       "    <tr>\n",
       "      <th>81</th>\n",
       "      <td>لكن لا بد أن أوضح لك أن كل هذه الأفكار المغلوط...</td>\n",
       "      <td>https://dailyhindustanexpress.com/%d8%ac%d9%88...</td>\n",
       "    </tr>\n",
       "    <tr>\n",
       "      <th>82</th>\n",
       "      <td>وبدون النمو والتقدم المستمرين، فإن كلمات مثل ا...</td>\n",
       "      <td>https://dailyhindustanexpress.com/%d9%88%d8%a5...</td>\n",
       "    </tr>\n",
       "    <tr>\n",
       "      <th>83</th>\n",
       "      <td>لكن لا بد أن أوضح لك أن كل هذه الأفكار المغلوط...</td>\n",
       "      <td>https://dailyhindustanexpress.com/%d9%81%d9%88...</td>\n",
       "    </tr>\n",
       "  </tbody>\n",
       "</table>\n",
       "<p>84 rows × 2 columns</p>\n",
       "</div>"
      ],
      "text/plain": [
       "                                                 text  \\\n",
       "0   \\nدوحہ: تہران میں شہید ہونے والے حماس رہنما اس...   \n",
       "1   نئی دہلی، 13 جولائی (یو این آئی) نائب صدر جگدی...   \n",
       "2   واشنگٹن: امریکی کانگریس کے ارکان نے اسرائیلی و...   \n",
       "3   ایک جانب ایران میں فضا سوگوار ہےتو دوسری جانب ...   \n",
       "4   نئی دہلی، 8 مئی (یو این آئی) نیشنل آرکائیوز ...   \n",
       "..                                                ...   \n",
       "79  لكن لا بد أن أوضح لك أن كل هذه الأفكار المغلوط...   \n",
       "80  وبدون النمو والتقدم المستمرين، فإن كلمات مثل ا...   \n",
       "81  لكن لا بد أن أوضح لك أن كل هذه الأفكار المغلوط...   \n",
       "82  وبدون النمو والتقدم المستمرين، فإن كلمات مثل ا...   \n",
       "83  لكن لا بد أن أوضح لك أن كل هذه الأفكار المغلوط...   \n",
       "\n",
       "                                                 href  \n",
       "0   https://dailyhindustanexpress.com/ismail-haniy...  \n",
       "1   https://dailyhindustanexpress.com/urgent-need-...  \n",
       "2   https://dailyhindustanexpress.com/invitation-t...  \n",
       "3   https://dailyhindustanexpress.com/ibrahim-rais...  \n",
       "4   https://dailyhindustanexpress.com/rafi-ahmad-q...  \n",
       "..                                                ...  \n",
       "79  https://dailyhindustanexpress.com/%d9%83%d9%8a...  \n",
       "80  https://dailyhindustanexpress.com/%d9%83%d9%8a...  \n",
       "81  https://dailyhindustanexpress.com/%d8%ac%d9%88...  \n",
       "82  https://dailyhindustanexpress.com/%d9%88%d8%a5...  \n",
       "83  https://dailyhindustanexpress.com/%d9%81%d9%88...  \n",
       "\n",
       "[84 rows x 2 columns]"
      ]
     },
     "execution_count": 111,
     "metadata": {},
     "output_type": "execute_result"
    }
   ],
   "source": [
    "texts = []\n",
    "for url in df[\"href\"]:\n",
    "    driver.get(url)\n",
    "    main_div = driver.find_element(By.CLASS_NAME, \"entry-content\")\n",
    "    paragraphs = main_div.find_elements(By.TAG_NAME, \"p\")\n",
    "    str = \"\"\n",
    "    for paragraph in paragraphs:\n",
    "        str += paragraph.text + \"\\n\"\n",
    "    texts.append(str)\n",
    "\n",
    "df[\"text\"] = texts\n",
    "df.to_csv(\"dailyhindustanexpress.csv\", index=False)\n",
    "df"
   ]
  },
  {
   "cell_type": "code",
   "execution_count": null,
   "metadata": {},
   "outputs": [],
   "source": []
  }
 ],
 "metadata": {
  "kernelspec": {
   "display_name": "Python 3",
   "language": "python",
   "name": "python3"
  },
  "language_info": {
   "codemirror_mode": {
    "name": "ipython",
    "version": 3
   },
   "file_extension": ".py",
   "mimetype": "text/x-python",
   "name": "python",
   "nbconvert_exporter": "python",
   "pygments_lexer": "ipython3",
   "version": "3.12.1"
  }
 },
 "nbformat": 4,
 "nbformat_minor": 2
}
