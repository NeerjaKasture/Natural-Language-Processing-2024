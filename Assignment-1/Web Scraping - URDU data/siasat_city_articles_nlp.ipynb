{
  "nbformat": 4,
  "nbformat_minor": 0,
  "metadata": {
    "colab": {
      "provenance": []
    },
    "kernelspec": {
      "name": "python3",
      "display_name": "Python 3"
    },
    "language_info": {
      "name": "python"
    }
  },
  "cells": [
    {
      "cell_type": "code",
      "execution_count": null,
      "metadata": {
        "id": "phnK8-9wjeet"
      },
      "outputs": [],
      "source": [
        "import pandas as pd\n",
        "import time\n",
        "from selenium import webdriver\n",
        "from selenium.webdriver.chrome.options import Options\n",
        "from selenium.webdriver.common.by import By\n",
        "try:\n",
        "    driver = webdriver.Chrome()\n",
        "except:\n",
        "    chrome_options = Options()\n",
        "    chrome_options.add_argument(\"--headless\")\n",
        "    chrome_options.add_argument(\"--no-sandbox\")\n",
        "    chrome_options.add_argument(\"--disable-dev-shm-usage\")\n",
        "    driver = webdriver.Chrome(options=chrome_options)\n",
        "    print(\"Running in headless mode.\")\n",
        "df2 = pd.DataFrame(columns=[\"url\", \"heading\", \"content\"])"
      ]
    },
    {
      "cell_type": "code",
      "source": [
        "\n",
        "count = 1  # Start counting from 1000 as first 1000 articles are already saved\n",
        "df = pd.read_csv(\"siasat_topic_city.csv\", skiprows=range(1, 1))  # Skip the first 1000 rows\n",
        "not_processed = []\n",
        "\n",
        "try:\n",
        "    for link in df[\"url\"]:\n",
        "        driver.get(link)\n",
        "        time.sleep(10)\n",
        "\n",
        "        art = driver.find_elements(By.CSS_SELECTOR, 'div.entry-content')\n",
        "        if len(art) != 1:\n",
        "            print(f\"Some problem with link: {link}\")\n",
        "            not_processed.append(link)\n",
        "            continue\n",
        "\n",
        "        headline = driver.find_elements(By.CSS_SELECTOR, 'div.inside-page-hero.grid-container.grid-parent')\n",
        "        if len(headline) != 1:\n",
        "            print(f\"Some problem with link: {link}\")\n",
        "            not_processed.append(link)\n",
        "            continue\n",
        "\n",
        "        header = headline[0].find_elements(By.TAG_NAME, 'h1')\n",
        "        if len(header) != 1:\n",
        "            print(f\"Some problem with link: {link}\")\n",
        "            not_processed.append(link)\n",
        "            continue\n",
        "        header_text = header[0].get_attribute(\"innerText\")\n",
        "\n",
        "        data_str = \"\"\n",
        "        p_tag = art[0].find_elements(By.TAG_NAME, 'p')\n",
        "        for j in range(len(p_tag)):\n",
        "            data_str = data_str + p_tag[j].get_attribute(\"innerText\") + \"\\n\"\n",
        "        data_str = data_str.strip()\n",
        "\n",
        "        # Add the new data to the existing saved DataFrame\n",
        "        df2.loc[len(df2)] = [link, header_text, data_str]\n",
        "\n",
        "        if count % 100 == 0:\n",
        "            print(count)\n",
        "        count += 1\n",
        "\n",
        "        if count % 1000 == 0:\n",
        "            df2.to_csv(f\"siasat_city_article_{count}.csv\", index=False)\n",
        "            print(f\"Saved partial CSV at {count} articles\")\n",
        "\n",
        "except Exception as e:\n",
        "    print(f\"Error occurred: {e}\")\n",
        "    df2.to_csv(f\"siasat_city_article_partial_{count}.csv\", index=False)\n",
        "    print(f\"Saved data up to {count} articles due to an error\")\n",
        "\n",
        "# Final save to include all articles processed\n",
        "df2.to_csv(\"siasat_city_all_articles.csv\", index=False)\n",
        "print(\"All articles saved to 'siasat_city_all_articles.csv'\")"
      ],
      "metadata": {
        "id": "_ANs_ufVmOpa"
      },
      "execution_count": null,
      "outputs": []
    }
  ]
}