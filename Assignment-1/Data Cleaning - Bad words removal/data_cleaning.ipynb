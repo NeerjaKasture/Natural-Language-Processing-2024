{
 "cells": [
  {
   "cell_type": "code",
   "execution_count": 4,
   "metadata": {},
   "outputs": [
    {
     "name": "stdout",
     "output_type": "stream",
     "text": [
      "1515\n",
      "1399\n"
     ]
    }
   ],
   "source": [
    "import pandas as pd\n",
    "\n",
    "df = pd.read_csv(r\"C:\\Users\\Sneha Gautam\\Downloads\\NLP_assignment 1\\Final dataset before processing\\hindustanExpress.csv\")\n",
    "print(len(df))\n",
    "df_deduplicated = df.drop_duplicates(subset=['Title', 'URL', 'Content'], keep='first')\n",
    "\n",
    "unwanted_words = [\" ’گالی\", \" اَیسی تَیسی کَرْنا \",\"بانس چَلانا\",\"بھاڑُو\",\"بھاڑُو کا بھاڑُو\",\"بَھقاما ہو جانا\",\"بَھڑْوا\",\"پِدَر سوخْتَہ\",\"پَلید\",\"تَبَرّا\",\"جان ہار\",\"جَگَت سالا\",\"جَگَت سیٹھ کا سالا\",\"جھانپو\",\"جھونٹے کاٹی\",\"چُدّو\",\"چَنار مَنار\",\"چُڈّو\",\"چِڑیا کا\",\"چُھرْیاں کَٹاوَن ہو\",\"چُھوٹْنا\",\"حَرامی پِلّا\",\"خام پارَہ\",\"خایَہ\",\"خِنْزِیر کا بَچَّہ\",\"دانْگَر\",\"بھاڑ میں جاؤ\",\"اُلو کا پٹھا\",\"پینڈو\",\"پاگل\",\"لانت\",\"احمق\",\"منجن\",\"پنچایت\",\"گانڈو\",\"سالے\",\"سالیاں\",\"سالی\",\"دخان\",\"دکھنو\",\"چوتیا\",\"کمیناء\",\"سنگ دل\",\"بدھو\",\"جاو مرو\",\"جہنم میں جاو\",\"چپڑی\",\"گدھے\",\"پینڈو\",\"چمچہ\",\"گهٿيا\",\"چھنال,\",\"رنڈی\",\"گانڈ\",\"لنڈ\",\"مموں\",\"پھدی\",\"سیکس\",\"جلق\",]\n",
    "\n",
    "unwanted_data_pattern = \"|\".join(unwanted_words)\n",
    "\n",
    "df['Content'] = df['Content'].fillna('')\n",
    "bool_df = df[\"Content\"].str.contains(unwanted_data_pattern, regex=True)\n",
    "df = df[~bool_df]\n",
    "print(len(df))\n"
   ]
  },
  {
   "cell_type": "code",
   "execution_count": null,
   "metadata": {},
   "outputs": [],
   "source": [
    "df.to_csv(r\"C:\\Users\\Sneha Gautam\\Downloads\\NLP_assignment 1\\Cleaned_dataset\\cleaned_hindustanExpress_articles.csv\")"
   ]
  }
 ],
 "metadata": {
  "kernelspec": {
   "display_name": "base",
   "language": "python",
   "name": "python3"
  },
  "language_info": {
   "codemirror_mode": {
    "name": "ipython",
    "version": 3
   },
   "file_extension": ".py",
   "mimetype": "text/x-python",
   "name": "python",
   "nbconvert_exporter": "python",
   "pygments_lexer": "ipython3",
   "version": "3.12.2"
  }
 },
 "nbformat": 4,
 "nbformat_minor": 2
}
